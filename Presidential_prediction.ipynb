{
  "cells": [
    {
      "cell_type": "markdown",
      "metadata": {
        "id": "6jQEUxeIDtpR"
      },
      "source": [
        "# 1. DEFINING THE QUESTION"
      ]
    },
    {
      "cell_type": "markdown",
      "metadata": {
        "id": "KJjYeRQaDtk4"
      },
      "source": [
        "### a) Specifying the Question"
      ]
    },
    {
      "cell_type": "markdown",
      "metadata": {
        "id": "b_pE5PbhD0VX"
      },
      "source": [
        "This project will entail three parts. In the first part,  we will analyze how the messages from presidential candidates affect their image and eventually their voter popularity. We seek to analyze the different phrases used by the presidential aspirants affect the common mwananchi in a positive and negative way. This analysis can give a list of phrases that should be avoided and those that can be used to boost one’s popularity.\n",
        "\n",
        "The second aspect of this project is to analyze the qualities that can be associated with a good leader. We are going to analyze, through people’s sentiments, what are the most popular qualities that the public would wish to see in their leaders and what they want most from them. Is it good roads, reduction of commodities, more schools to be built, among others.\n",
        "\n",
        "The last and most sensitive part is to analyze which presidential candidate will win and by what margin. This part will not be for public consumption. We intend to hand this part of the project to a company such as Ipsos so that they can integrate it in their analysis. Access to this information will be restricted to a few people.\n",
        "\n"
      ]
    },
    {
      "cell_type": "markdown",
      "metadata": {
        "id": "v83pQhBTECBD"
      },
      "source": [
        "### b) Defining the Metric for Success"
      ]
    },
    {
      "cell_type": "markdown",
      "metadata": {
        "id": "9uIgfIzEEUUg"
      },
      "source": [
        "Sucessfully determine the trending topics, most popular political coalitions and presidential aspirants, establish which candidate is leading at the moment using obtained sentiments, and prediction of the most likely winners of the August 9th, 2022 Kenyan presidential election"
      ]
    },
    {
      "cell_type": "markdown",
      "metadata": {
        "id": "_Eel838rEfsP"
      },
      "source": [
        "### c) Understanding the context"
      ]
    },
    {
      "cell_type": "markdown",
      "metadata": {
        "id": "EB3tFFX5Eosi"
      },
      "source": [
        "The dataset used has six attributes\n",
        "0   Unnamed: 0 - Irrelevant data        \n",
        " 1   Unnamed: 0.1 - Irrelevant        \n",
        " 2   tweet_id - Unique identifier of tweet        \n",
        " 3   time- Time tweet was scraped\n",
        " 4   tweet - The scraped tweet       \n",
        " 5   retweet_count - the number of retweets a tweet obtained"
      ]
    },
    {
      "cell_type": "markdown",
      "metadata": {
        "id": "pL8h7n6XEwUD"
      },
      "source": [
        "### d). Recording the Experimental Design"
      ]
    },
    {
      "cell_type": "markdown",
      "metadata": {
        "id": "y2IuhCtzEx3O"
      },
      "source": [
        "- Defning the questions\n",
        "- Data Loading \n",
        "- Previewing the dat\n",
        "- Data pre-processing\n",
        "- Feature engineering\n",
        "- EDA\n",
        "- Election Prediction\n",
        "- Results\n",
        "- Conclusion\n",
        "- Further questions"
      ]
    },
    {
      "cell_type": "markdown",
      "metadata": {
        "id": "wB5LJD-KFRdX"
      },
      "source": [
        "### e) Data Relevance"
      ]
    },
    {
      "cell_type": "markdown",
      "metadata": {
        "id": "W6o16y2YFYtc"
      },
      "source": [
        "The dataset to use for this project can be found by following this link:\n",
        " LINK TO BE PROVIDED\n",
        "\n",
        "\n",
        "Assumptions\n",
        "\n",
        "We shall assume the data is accurate\n",
        "\n"
      ]
    },
    {
      "cell_type": "markdown",
      "metadata": {
        "id": "AMKw3MrvW1Jj"
      },
      "source": [
        "# Analysis"
      ]
    },
    {
      "cell_type": "markdown",
      "metadata": {
        "id": "8sJXR8eJgpuT"
      },
      "source": [
        "## Importing libraries"
      ]
    },
    {
      "cell_type": "code",
      "execution_count": 1,
      "metadata": {
        "colab": {
          "base_uri": "https://localhost:8080/"
        },
        "id": "WKEi-bB3uTGQ",
        "outputId": "66267c72-b7b9-4acf-b596-1d6d26bb0bd4"
      },
      "outputs": [
        {
          "name": "stderr",
          "output_type": "stream",
          "text": [
            "[nltk_data] Downloading package stopwords to\n",
            "[nltk_data]     C:\\Users\\user\\AppData\\Roaming\\nltk_data...\n",
            "[nltk_data]   Package stopwords is already up-to-date!\n"
          ]
        },
        {
          "data": {
            "text/plain": [
              "True"
            ]
          },
          "execution_count": 1,
          "metadata": {},
          "output_type": "execute_result"
        }
      ],
      "source": [
        "# importing the libraries that we will nned\n",
        "import gensim\n",
        "from nltk.stem import WordNetLemmatizer\n",
        "import nltk\n",
        "import seaborn as sns\n",
        "import pandas as pd\n",
        "import numpy as np\n",
        "from nltk.corpus import stopwords\n",
        "from sklearn.metrics.pairwise import linear_kernel\n",
        "from sklearn.feature_extraction.text import CountVectorizer\n",
        "from sklearn.feature_extraction.text import TfidfVectorizer\n",
        "from nltk.tokenize import RegexpTokenizer\n",
        "import re\n",
        "import string\n",
        "import random\n",
        "from PIL import Image\n",
        "import requests\n",
        "from io import BytesIO\n",
        "import matplotlib.pyplot as plt\n",
        "from textblob import TextBlob\n",
        "from wordcloud import WordCloud\n",
        "import plotly.graph_objects as go\n",
        "import plotly.express as px\n",
        "%matplotlib inline\n",
        "import nltk\n",
        "nltk.download('stopwords')"
      ]
    },
    {
      "cell_type": "code",
      "execution_count": 2,
      "metadata": {
        "colab": {
          "base_uri": "https://localhost:8080/"
        },
        "id": "uX9cbYAHt4kf",
        "outputId": "31eee23b-4a8c-4f44-8170-7160b19688c6"
      },
      "outputs": [
        {
          "name": "stderr",
          "output_type": "stream",
          "text": [
            "[nltk_data] Downloading package wordnet to\n",
            "[nltk_data]     C:\\Users\\user\\AppData\\Roaming\\nltk_data...\n",
            "[nltk_data]   Package wordnet is already up-to-date!\n",
            "[nltk_data] Downloading package omw-1.4 to\n",
            "[nltk_data]     C:\\Users\\user\\AppData\\Roaming\\nltk_data...\n",
            "[nltk_data]   Package omw-1.4 is already up-to-date!\n"
          ]
        },
        {
          "data": {
            "text/plain": [
              "True"
            ]
          },
          "execution_count": 2,
          "metadata": {},
          "output_type": "execute_result"
        }
      ],
      "source": [
        "import nltk\n",
        "nltk.download('wordnet')\n",
        "nltk.download('omw-1.4')"
      ]
    },
    {
      "cell_type": "markdown",
      "metadata": {
        "id": "7_7F4Lu7glpw"
      },
      "source": [
        "## Loading dataset"
      ]
    },
    {
      "cell_type": "code",
      "execution_count": 3,
      "metadata": {
        "id": "0roDyj1xuTGb"
      },
      "outputs": [],
      "source": [
        "# Load dataframe\n",
        "def load_csv(filepath):\n",
        "    df = pd.read_csv(filepath)\n",
        "    return df"
      ]
    },
    {
      "cell_type": "code",
      "execution_count": 4,
      "metadata": {
        "colab": {
          "base_uri": "https://localhost:8080/"
        },
        "id": "6Kv72p85uTGd",
        "outputId": "3063978d-1dea-4149-8e19-857147816ad6"
      },
      "outputs": [
        {
          "name": "stderr",
          "output_type": "stream",
          "text": [
            "C:\\Users\\user\\AppData\\Local\\Temp\\ipykernel_12464\\258093077.py:3: DtypeWarning: Columns (1,2) have mixed types. Specify dtype option on import or set low_memory=False.\n",
            "  df = pd.read_csv(filepath)\n"
          ]
        }
      ],
      "source": [
        "# loading dataframe\n",
        "filepath = \"cleaned_df_amos.csv\"\n",
        "\n",
        "df = load_csv(filepath)"
      ]
    },
    {
      "cell_type": "markdown",
      "metadata": {
        "id": "uyZJx8x40S2M"
      },
      "source": [
        "## Previewing dataset"
      ]
    },
    {
      "cell_type": "code",
      "execution_count": 5,
      "metadata": {
        "id": "tatloYrzuTGg"
      },
      "outputs": [],
      "source": [
        "# function to preview the dataframe preview dataframe\n",
        "def preview_df(df):\n",
        "    head = df.head()\n",
        "    tail = df.tail()\n",
        "    random_sample = df.sample(30)\n",
        "    rows, columns = df.shape\n",
        "\n",
        "    return head, tail, random_sample, print(f\"THe dataframe has {rows} rows and {columns} columns\")\n"
      ]
    },
    {
      "cell_type": "code",
      "execution_count": 6,
      "metadata": {
        "colab": {
          "base_uri": "https://localhost:8080/"
        },
        "id": "QeUhV7E11sKA",
        "outputId": "25a43ed8-d355-48de-9a49-824073c54d8a"
      },
      "outputs": [
        {
          "name": "stdout",
          "output_type": "stream",
          "text": [
            "THe dataframe has 405650 rows and 6 columns\n"
          ]
        }
      ],
      "source": [
        "# preview shape of datframe\n",
        "rows, columns = df.shape\n",
        "\n",
        "# print\n",
        "print(f\"THe dataframe has {rows} rows and {columns} columns\")"
      ]
    },
    {
      "cell_type": "code",
      "execution_count": 7,
      "metadata": {
        "colab": {
          "base_uri": "https://localhost:8080/"
        },
        "id": "5F-YB2lQYeSZ",
        "outputId": "fe131ec5-39a8-47e3-ca70-a5abdcbcd9ee"
      },
      "outputs": [
        {
          "name": "stdout",
          "output_type": "stream",
          "text": [
            "<class 'pandas.core.frame.DataFrame'>\n",
            "RangeIndex: 405650 entries, 0 to 405649\n",
            "Data columns (total 6 columns):\n",
            " #   Column         Non-Null Count   Dtype \n",
            "---  ------         --------------   ----- \n",
            " 0   Unnamed: 0.1   405650 non-null  int64 \n",
            " 1   Unnamed: 0     405650 non-null  object\n",
            " 2   tweet_id       405650 non-null  object\n",
            " 3   time           405650 non-null  object\n",
            " 4   tweet          405649 non-null  object\n",
            " 5   retweet_count  405650 non-null  int64 \n",
            "dtypes: int64(2), object(4)\n",
            "memory usage: 18.6+ MB\n"
          ]
        }
      ],
      "source": [
        "df.info()"
      ]
    },
    {
      "cell_type": "code",
      "execution_count": 8,
      "metadata": {
        "colab": {
          "base_uri": "https://localhost:8080/"
        },
        "id": "zDMUyVP-uTGi",
        "outputId": "4c3471b4-f773-40b5-eb3b-744c09972102"
      },
      "outputs": [
        {
          "name": "stdout",
          "output_type": "stream",
          "text": [
            "THe dataframe has 405650 rows and 6 columns\n"
          ]
        },
        {
          "data": {
            "text/plain": [
              "(   Unnamed: 0.1 Unnamed: 0             tweet_id                 time  \\\n",
              " 0             1          1  1543382261164302337  2022-07-02 23:53:00   \n",
              " 1             2          2  1543379565648773121  2022-07-02 23:42:17   \n",
              " 2             5          5  1543377927773081603  2022-07-02 23:35:47   \n",
              " 3             6          6  1543377130201006084  2022-07-02 23:32:37   \n",
              " 4             7          7  1543377046105120770  2022-07-02 23:32:17   \n",
              " \n",
              "                                                tweet  retweet_count  \n",
              " 0  @kilundeezy Hii ndio ubaya ya kukosa degre😂😂😂....              0  \n",
              " 1  Mathira MP Rigathi Gachagua says Azimio la Umo...              0  \n",
              " 2  @LakesideBy @DavidNdii @SilviaWangeci2 @Nation...              0  \n",
              " 3  @alvinsabuya @ahmednasirlaw Uhuru is the Azimi...              0  \n",
              " 4  @PWamugunda @DavidNdii Hivyo ndivyo naingia Az...              0  ,\n",
              "         Unnamed: 0.1 Unnamed: 0             tweet_id                 time  \\\n",
              " 405645       1967556     342927  1536700160734027776  2022-06-14 13:20:43   \n",
              " 405646       1967560     342931  1536688001211932673  2022-06-14 12:32:24   \n",
              " 405647       1967564     342935  1536685047633289216  2022-06-14 12:20:40   \n",
              " 405648       1967567     342938  1536684301286354944  2022-06-14 12:17:42   \n",
              " 405649       1967572     342943  1536677573668790274  2022-06-14 11:50:58   \n",
              " \n",
              "                                                     tweet  retweet_count  \n",
              " 405645  Let's talk about Hon. Simba Arati, this guy is...              0  \n",
              " 405646                  KENYAN POLITICS IS FULL OF DRAMA.              0  \n",
              " 405647  @HassanSMohamud @UhuruKenyadda Kenya shouldn’t...              0  \n",
              " 405648  RT @Josholuga: What happened to HNIB Bureau Ch...              6  \n",
              " 405649  Prof may just be the black swan Kenyan politic...              0  ,\n",
              "         Unnamed: 0.1 Unnamed: 0             tweet_id                 time  \\\n",
              " 402300       1955090     330457  1537868883025088514  2022-06-17 18:44:48   \n",
              " 89740          74898      74897  1541623048759087106  2022-06-28 03:22:31   \n",
              " 315898        149047     174297  1537185562620071936  2022-06-14 10:53:03   \n",
              " 142898        134905      18865  1542400723408797696  2022-06-30 06:52:43   \n",
              " 214588         17924      31821  1539834225146437633  2022-06-23 04:54:22   \n",
              " 66722          47033      47032  1542410787523887104  2022-06-30 07:32:43   \n",
              " 391646       1913711     288441  1536732110614106118  2022-06-20 17:47:16   \n",
              " 35745          11447      11447  1543138733914038272  2022-07-02 07:45:18   \n",
              " 195539        189205       5570  1542589223148175360  2022-06-30 19:21:45   \n",
              " 58020          37234      37233  1542566353080655878  2022-06-30 17:50:52   \n",
              " 373971       1895366     269860  1537780078855192577  2022-06-20 17:47:16   \n",
              " 191609        185168       1533  1542949724508094467  2022-07-01 19:14:15   \n",
              " 287172        119571     144807  1537935333794324480  2022-06-14 10:53:03   \n",
              " 172637        165661      49620  1541150223333998597  2022-06-26 20:03:41   \n",
              " 233386         62996      88199  1539746535943966720  2022-06-14 10:53:03   \n",
              " 378937       1900415     274981  1537505550941954051  2022-06-20 17:47:16   \n",
              " 328189        161747     187015  1536826359087042564  2022-06-14 10:53:03   \n",
              " 291577        124107     149343  1537832936032043009  2022-06-14 10:53:03   \n",
              " 33856           9139       9139  1543181293856464899  2022-07-02 10:34:26   \n",
              " 319739        152999     178257  1537103273408098305  2022-06-14 10:53:03   \n",
              " 154110        146529      30489  1541974477491380224  2022-06-29 02:38:58   \n",
              " 383523       1905126     279747  1537387245891641345  2022-06-20 17:47:16   \n",
              " 156854        149329      33289  1541852812665311233  2022-06-28 18:35:31   \n",
              " 317007        150179     175429  1537159921749348353  2022-06-14 10:53:03   \n",
              " 252862         83173     108388  1539184847666782208  2022-06-14 10:53:03   \n",
              " 37669          13764      13763  1543090599254949888  2022-07-02 04:34:02   \n",
              " 387832       1909724     284398  1537096559132827651  2022-06-20 17:47:16   \n",
              " 144539        136602      20562  1542255873007001600  2022-06-29 21:17:08   \n",
              " 111875        101046     101045  1540622209097445376  2022-06-25 09:05:32   \n",
              " 230746         56611      81616  1537064421423472640  2022-06-15 13:28:10   \n",
              " \n",
              "                                                     tweet  retweet_count  \n",
              " 402300  RT @SaulAnthony18: Hey \\nI'll do free delivery...              7  \n",
              " 89740           @WilliamsRuto Mkuu leo umeota mapema sana              0  \n",
              " 315898  Is it wrong to wish for an annual, \"The Former...              0  \n",
              " 142898       @RailaOdinga Tushaa connect..💪💪 #inawezekana              0  \n",
              " 214588  @OleItumbi Why leave Dp Ruto in this national ...              0  \n",
              " 66722   @BiancaWamu What of us who have suffered under...              0  \n",
              " 391646                   @Madoka_Ke @RailaOdinga nonsense              0  \n",
              " 35745   Getting better clarity? William Ruto hints at ...              0  \n",
              " 195539  Vile nitakua naita nyoka Wajackoyah akiingia  ...              1  \n",
              " 58020   @WilliamsRuto We are giving you this win,becau...              0  \n",
              " 373971  @RailaOdinga Unfortunately, you won't win. Jun...              0  \n",
              " 191609  @MrRightke Wajackoyah mwanzo kuna ingine inait...              0  \n",
              " 287172       @fujoshifobia her next goal is the 5th floor              0  \n",
              " 172637  @ClintonMurila Round hii kitaumana. Ni mtu na ...              0  \n",
              " 233386  @Persanon7 @HawksInHouston @JosinaAnderson A 3...              0  \n",
              " 378937  @OnyimboSostine @RailaOdinga Si walipea ndugu yke              0  \n",
              " 328189  @Vmalntoplc Is it true that his album will be ...              0  \n",
              " 291577  $SPY was the 5th most mentioned on 4chan over ...              0  \n",
              " 33856   @ahmednasirlaw @WMutunga We will also probe Ru...              0  \n",
              " 319739              @Painter37502325 she got the 5th Jab?              0  \n",
              " 154110  @isaacka01055094 @AmakanjiThomas @EmmanuelTala...              0  \n",
              " 383523  My boss @WilliamsRuto You are wrong, Very wron...              0  \n",
              " 156854  ⏰greatly designed to fit your car seats. Leath...              0  \n",
              " 317007  @milesmiles33 @Satterda99 @asapfoggy @libsofti...              0  \n",
              " 252862  Yesterday saw the final of the mixed touch rug...              0  \n",
              " 37669   @K24Tv @WilliamsRuto while in Embu castigated ...              0  \n",
              " 387832                  @Madoka_Ke @RailaOdinga ,🤣🤣🤣🤣🤣🤣🤣😋              0  \n",
              " 144539  @OchamCharles1 It's true though ... Raila and ...              0  \n",
              " 111875                                 @starfess dek ruto              0  \n",
              " 230746  RT @KarithiFestus: @Liondeh @Mbusii \\nDoing it...              1  ,\n",
              " None)"
            ]
          },
          "execution_count": 8,
          "metadata": {},
          "output_type": "execute_result"
        }
      ],
      "source": [
        "# previewing the dataframe\n",
        "preview_df(df)"
      ]
    },
    {
      "cell_type": "markdown",
      "metadata": {
        "id": "j9G31dyBgDWN"
      },
      "source": [
        "## Data preprocessing"
      ]
    },
    {
      "cell_type": "markdown",
      "metadata": {
        "id": "1OtS2ezDgKGd"
      },
      "source": [
        "### Missing Values"
      ]
    },
    {
      "cell_type": "code",
      "execution_count": 9,
      "metadata": {
        "colab": {
          "base_uri": "https://localhost:8080/"
        },
        "id": "rZ7EnhoQuTGj",
        "outputId": "bb7376ce-2222-4448-97b3-a11dfaa17744"
      },
      "outputs": [
        {
          "data": {
            "text/plain": [
              "Unnamed: 0.1     0\n",
              "Unnamed: 0       0\n",
              "tweet_id         0\n",
              "time             0\n",
              "tweet            1\n",
              "retweet_count    0\n",
              "dtype: int64"
            ]
          },
          "execution_count": 9,
          "metadata": {},
          "output_type": "execute_result"
        }
      ],
      "source": [
        "# checking for missing values\n",
        "\n",
        "# checking if there are any missing values in the dataset\n",
        "df.isnull().sum()"
      ]
    },
    {
      "cell_type": "markdown",
      "metadata": {
        "id": "Tv92FXnJga7x"
      },
      "source": [
        "There was one missing value in the cleaned tweet"
      ]
    },
    {
      "cell_type": "code",
      "execution_count": 10,
      "metadata": {
        "colab": {
          "base_uri": "https://localhost:8080/"
        },
        "id": "Yi7Tl-7quTGm",
        "outputId": "aebe3fb0-aec2-437f-af40-b54c0563531c"
      },
      "outputs": [
        {
          "data": {
            "text/plain": [
              "Unnamed: 0.1     0.0\n",
              "Unnamed: 0       0.0\n",
              "tweet_id         0.0\n",
              "time             0.0\n",
              "tweet            0.0\n",
              "retweet_count    0.0\n",
              "dtype: float64"
            ]
          },
          "execution_count": 10,
          "metadata": {},
          "output_type": "execute_result"
        }
      ],
      "source": [
        "# finding the percentage of missing values for each column\n",
        "percent_missing = round(df.isnull().sum() * 100 / len(df),2)\n",
        "percent_missing"
      ]
    },
    {
      "cell_type": "code",
      "execution_count": 11,
      "metadata": {
        "colab": {
          "base_uri": "https://localhost:8080/"
        },
        "id": "cY5kDRequTGo",
        "outputId": "7b8990b3-284a-472e-f791-771cdbae1813"
      },
      "outputs": [
        {
          "data": {
            "text/plain": [
              "0.0"
            ]
          },
          "execution_count": 11,
          "metadata": {},
          "output_type": "execute_result"
        }
      ],
      "source": [
        "# finding the percentage of missing values for the entire dataset\n",
        "percentage_missing = round(df.isnull().sum().sum() * 100 / len(df),2)\n",
        "percentage_missing"
      ]
    },
    {
      "cell_type": "markdown",
      "metadata": {
        "id": "kkhPtDEqhFPR"
      },
      "source": [
        "Missing values made up 0.01% of dataframe hence shall be dropped"
      ]
    },
    {
      "cell_type": "code",
      "execution_count": 12,
      "metadata": {
        "id": "fhrA_vJvuTGq"
      },
      "outputs": [],
      "source": [
        "# dropping the missing values in tweet_id\n",
        "df = df.dropna()"
      ]
    },
    {
      "cell_type": "code",
      "execution_count": 13,
      "metadata": {
        "colab": {
          "base_uri": "https://localhost:8080/"
        },
        "id": "K_rsjemYuTGv",
        "outputId": "d5577009-7eab-482c-cbdd-835ad759ac89"
      },
      "outputs": [
        {
          "data": {
            "text/plain": [
              "Unnamed: 0.1     0\n",
              "Unnamed: 0       0\n",
              "tweet_id         0\n",
              "time             0\n",
              "tweet            0\n",
              "retweet_count    0\n",
              "dtype: int64"
            ]
          },
          "execution_count": 13,
          "metadata": {},
          "output_type": "execute_result"
        }
      ],
      "source": [
        "# checking to see if the missing values have been imputed\n",
        "df.isnull().sum()"
      ]
    },
    {
      "cell_type": "markdown",
      "metadata": {
        "id": "CmH5m3AVjqCi"
      },
      "source": [
        "All null values  have been successfully drop"
      ]
    },
    {
      "cell_type": "markdown",
      "metadata": {
        "id": "2berK7ysk-yU"
      },
      "source": [
        "### Pre_processing tweets"
      ]
    },
    {
      "cell_type": "markdown",
      "metadata": {
        "id": "2sSRCHfIlEIV"
      },
      "source": [
        "Here we are processing the tweets to remove the  special characters, convert texts to lower case, remove unnecessary links and images this with an aim to make the tweets more easy to analyse "
      ]
    },
    {
      "cell_type": "code",
      "execution_count": 14,
      "metadata": {
        "id": "jgIsyCsZr556"
      },
      "outputs": [],
      "source": [
        "punctuation = '!\"$%&\\'()*+,-./:;<=>?[\\\\]^_`{|}~•@'         # define a string of punctuation symbols\n",
        "\n",
        "# Functions to clean tweets\n",
        "def remove_links(tweet):\n",
        "    \"\"\"Takes a string and removes web links from it\"\"\"\n",
        "    tweet = re.sub(r'http\\S+', '', tweet)   # remove http links\n",
        "    tweet = re.sub(r'bit.ly/\\S+', '', tweet)  # remove bitly links\n",
        "    tweet = tweet.strip('[link]')   # remove [links]\n",
        "    tweet = re.sub(r'pic.twitter\\S+','', tweet)\n",
        "    return tweet\n",
        "\n",
        "def remove_users(tweet):\n",
        "    \"\"\"Takes a string and removes retweet and @user information\"\"\"\n",
        "    tweet = re.sub('(RT\\s@[A-Za-z]+[A-Za-z0-9-_]+)', '', tweet)  # remove re-tweet\n",
        "    tweet = re.sub('(@[A-Za-z]+[A-Za-z0-9-_]+)', '', tweet)  # remove tweeted at\n",
        "    return tweet\n",
        "\n",
        "def remove_hashtags(tweet):\n",
        "    \"\"\"Takes a string and removes any hash tags\"\"\"\n",
        "    tweet = re.sub('(#[A-Za-z]+[A-Za-z0-9-_]+)', '', tweet)  # remove hash tags\n",
        "    return tweet\n",
        "\n",
        "def remove_av(tweet):\n",
        "    \"\"\"Takes a string and removes AUDIO/VIDEO tags or labels\"\"\"\n",
        "    tweet = re.sub('VIDEO:', '', tweet)  # remove 'VIDEO:' from start of tweet\n",
        "    tweet = re.sub('AUDIO:', '', tweet)  # remove 'AUDIO:' from start of tweet\n",
        "    return tweet\n",
        "\n",
        "def tokenize(tweet):\n",
        "    \"\"\"Returns tokenized representation of words in lemma form excluding stopwords\"\"\"\n",
        "    result = []\n",
        "    for token in gensim.utils.simple_preprocess(tweet):\n",
        "        if token not in gensim.parsing.preprocessing.STOPWORDS \\\n",
        "                and len(token) > 2:  # drops words with less than 3 characters\n",
        "            result.append(lemmatize(token))\n",
        "    return result\n",
        "\n",
        "def lemmatize(token):\n",
        "    \"\"\"Returns lemmatization of a token\"\"\"\n",
        "    return WordNetLemmatizer().lemmatize(token, pos='v')\n",
        "\n",
        "def preprocess_tweet(tweet):\n",
        "    \"\"\"Main master function to clean tweets, stripping noisy characters, and tokenizing use lemmatization\"\"\"\n",
        "    tweet = remove_users(tweet)\n",
        "    tweet = remove_links(tweet)\n",
        "    tweet = remove_hashtags(tweet)\n",
        "    tweet = remove_av(tweet)\n",
        "    tweet = tweet.lower()  # lower case\n",
        "    tweet = re.sub('[' + punctuation + ']+', ' ', tweet)  # strip punctuation\n",
        "    tweet = re.sub('\\s+', ' ', tweet)  # remove double spacing\n",
        "    tweet = re.sub('([0-9]+)', '', tweet)  # remove numbers\n",
        "    tweet_token_list = tokenize(tweet)  # apply lemmatization and tokenization\n",
        "    tweet = ' '.join(tweet_token_list)\n",
        "    return tweet\n",
        "\n",
        "def basic_clean(tweet):\n",
        "    \"\"\"Main master function to clean tweets only without tokenization or removal of stopwords\"\"\"\n",
        "    tweet = remove_users(tweet)\n",
        "    tweet = remove_links(tweet)\n",
        "    tweet = remove_hashtags(tweet)\n",
        "    tweet = remove_av(tweet)\n",
        "    tweet = tweet.lower()  # lower case\n",
        "    tweet = re.sub('[' + punctuation + ']+', ' ', tweet)  # strip punctuation\n",
        "    tweet = re.sub('\\s+', ' ', tweet)  # remove double spacing\n",
        "    tweet = re.sub('([0-9]+)', '', tweet)  # remove numbers\n",
        "    tweet = re.sub('📝 …', '', tweet)\n",
        "    return tweet\n",
        "\n",
        "def tokenize_tweets(df):\n",
        "    \"\"\"Main function to read in and return cleaned and preprocessed dataframe.\n",
        "    This can be used in Jupyter notebooks by importing this module and calling the tokenize_tweets() function\n",
        "    Args:\n",
        "        df = data frame object to apply cleaning to\n",
        "    Returns:\n",
        "        pandas data frame with cleaned tokens\n",
        "    \"\"\"\n",
        "\n",
        "    df['tokens'] = df.tweet.apply(preprocess_tweet)\n",
        "    num_tweets = len(df)\n",
        "    print('Complete. Number of Tweets that have been cleaned and tokenized : {}'.format(num_tweets))\n",
        "    return df"
      ]
    },
    {
      "cell_type": "code",
      "execution_count": 15,
      "metadata": {
        "id": "nclZv3mcuTG7"
      },
      "outputs": [],
      "source": [
        "# applying preprocessings to the tweet\n",
        "df['tweet_clean'] = df['tweet'].apply(preprocess_tweet)"
      ]
    },
    {
      "cell_type": "code",
      "execution_count": 16,
      "metadata": {
        "colab": {
          "base_uri": "https://localhost:8080/",
          "height": 0
        },
        "id": "rU8ya-wFuTG8",
        "outputId": "8ce3f6ac-1e90-4e5e-a736-8e7c6e70bbae"
      },
      "outputs": [
        {
          "data": {
            "text/html": [
              "<div>\n",
              "<style scoped>\n",
              "    .dataframe tbody tr th:only-of-type {\n",
              "        vertical-align: middle;\n",
              "    }\n",
              "\n",
              "    .dataframe tbody tr th {\n",
              "        vertical-align: top;\n",
              "    }\n",
              "\n",
              "    .dataframe thead th {\n",
              "        text-align: right;\n",
              "    }\n",
              "</style>\n",
              "<table border=\"1\" class=\"dataframe\">\n",
              "  <thead>\n",
              "    <tr style=\"text-align: right;\">\n",
              "      <th></th>\n",
              "      <th>Unnamed: 0.1</th>\n",
              "      <th>Unnamed: 0</th>\n",
              "      <th>tweet_id</th>\n",
              "      <th>time</th>\n",
              "      <th>tweet</th>\n",
              "      <th>retweet_count</th>\n",
              "      <th>tweet_clean</th>\n",
              "    </tr>\n",
              "  </thead>\n",
              "  <tbody>\n",
              "    <tr>\n",
              "      <th>144702</th>\n",
              "      <td>136768</td>\n",
              "      <td>20728</td>\n",
              "      <td>1542241352045699073</td>\n",
              "      <td>2022-06-29 20:19:26</td>\n",
              "      <td>After losing Narok County to UDA, RAILA ODINGA...</td>\n",
              "      <td>1</td>\n",
              "      <td>lose narok county uda raila odinga lose kajiad...</td>\n",
              "    </tr>\n",
              "    <tr>\n",
              "      <th>304072</th>\n",
              "      <td>136926</td>\n",
              "      <td>162170</td>\n",
              "      <td>1537520802651942912</td>\n",
              "      <td>2022-06-14 10:53:03</td>\n",
              "      <td>@ReallyAmerican1 And the 5th!</td>\n",
              "      <td>0</td>\n",
              "      <td></td>\n",
              "    </tr>\n",
              "    <tr>\n",
              "      <th>272758</th>\n",
              "      <td>104342</td>\n",
              "      <td>129570</td>\n",
              "      <td>1538494752894623745</td>\n",
              "      <td>2022-06-14 10:53:03</td>\n",
              "      <td>Sticky like the 5th best song on here</td>\n",
              "      <td>0</td>\n",
              "      <td>sticky like best song</td>\n",
              "    </tr>\n",
              "    <tr>\n",
              "      <th>60273</th>\n",
              "      <td>39689</td>\n",
              "      <td>39688</td>\n",
              "      <td>1542551908421976070</td>\n",
              "      <td>2022-06-30 16:53:28</td>\n",
              "      <td>@WilliamsRuto @SakajaJohnson CUE imefanya ile ...</td>\n",
              "      <td>0</td>\n",
              "      <td>cue imefanya ile kitu tena mkuu yaani ndani hi...</td>\n",
              "    </tr>\n",
              "    <tr>\n",
              "      <th>197877</th>\n",
              "      <td>191597</td>\n",
              "      <td>7962</td>\n",
              "      <td>1542537131058515968</td>\n",
              "      <td>2022-06-30 15:54:45</td>\n",
              "      <td>Ukiskiza hao wafu wa wajackoyah utajua haendi ...</td>\n",
              "      <td>1</td>\n",
              "      <td>ukiskiza hao wafu wajackoyah utajua haendi maha</td>\n",
              "    </tr>\n",
              "  </tbody>\n",
              "</table>\n",
              "</div>"
            ],
            "text/plain": [
              "        Unnamed: 0.1 Unnamed: 0             tweet_id                 time  \\\n",
              "144702        136768      20728  1542241352045699073  2022-06-29 20:19:26   \n",
              "304072        136926     162170  1537520802651942912  2022-06-14 10:53:03   \n",
              "272758        104342     129570  1538494752894623745  2022-06-14 10:53:03   \n",
              "60273          39689      39688  1542551908421976070  2022-06-30 16:53:28   \n",
              "197877        191597       7962  1542537131058515968  2022-06-30 15:54:45   \n",
              "\n",
              "                                                    tweet  retweet_count  \\\n",
              "144702  After losing Narok County to UDA, RAILA ODINGA...              1   \n",
              "304072                      @ReallyAmerican1 And the 5th!              0   \n",
              "272758              Sticky like the 5th best song on here              0   \n",
              "60273   @WilliamsRuto @SakajaJohnson CUE imefanya ile ...              0   \n",
              "197877  Ukiskiza hao wafu wa wajackoyah utajua haendi ...              1   \n",
              "\n",
              "                                              tweet_clean  \n",
              "144702  lose narok county uda raila odinga lose kajiad...  \n",
              "304072                                                     \n",
              "272758                              sticky like best song  \n",
              "60273   cue imefanya ile kitu tena mkuu yaani ndani hi...  \n",
              "197877    ukiskiza hao wafu wajackoyah utajua haendi maha  "
            ]
          },
          "execution_count": 16,
          "metadata": {},
          "output_type": "execute_result"
        }
      ],
      "source": [
        "# sampling five tweets to see the \n",
        "df.sample(5)"
      ]
    },
    {
      "cell_type": "markdown",
      "metadata": {
        "id": "dIo926qkjxPS"
      },
      "source": [
        "### Data validity"
      ]
    },
    {
      "cell_type": "markdown",
      "metadata": {
        "id": "MHSs1zjgjzq7"
      },
      "source": [
        "Here entails converting the various attributes to appropiate data types"
      ]
    },
    {
      "cell_type": "code",
      "execution_count": 17,
      "metadata": {
        "colab": {
          "base_uri": "https://localhost:8080/"
        },
        "id": "KHpDRRNcuTGx",
        "outputId": "df68bfb5-2df9-4f59-d7dd-b9c909c27ca8"
      },
      "outputs": [
        {
          "name": "stdout",
          "output_type": "stream",
          "text": [
            "<class 'pandas.core.frame.DataFrame'>\n",
            "Int64Index: 405649 entries, 0 to 405649\n",
            "Data columns (total 7 columns):\n",
            " #   Column         Non-Null Count   Dtype         \n",
            "---  ------         --------------   -----         \n",
            " 0   Unnamed: 0.1   405649 non-null  int64         \n",
            " 1   Unnamed: 0     405649 non-null  object        \n",
            " 2   tweet_id       405649 non-null  object        \n",
            " 3   time           405649 non-null  datetime64[ns]\n",
            " 4   tweet          405649 non-null  object        \n",
            " 5   retweet_count  405649 non-null  int32         \n",
            " 6   tweet_clean    405649 non-null  object        \n",
            "dtypes: datetime64[ns](1), int32(1), int64(1), object(4)\n",
            "memory usage: 23.2+ MB\n"
          ]
        }
      ],
      "source": [
        "# changing the datatype of retweet_count and time to their respective datatypes\n",
        "df['retweet_count'] = df['retweet_count'].astype('int')\n",
        "df['time'] = pd.to_datetime(df['time'])\n",
        "df.info()\n"
      ]
    },
    {
      "cell_type": "markdown",
      "metadata": {
        "id": "0n0hpKI-j8cp"
      },
      "source": [
        "All columns now have appropiate datatypes"
      ]
    },
    {
      "cell_type": "markdown",
      "metadata": {
        "id": "kgHg7oOlkEzt"
      },
      "source": [
        "### checking duplicates"
      ]
    },
    {
      "cell_type": "code",
      "execution_count": 18,
      "metadata": {
        "colab": {
          "base_uri": "https://localhost:8080/"
        },
        "id": "dmEBkuZSuTGy",
        "outputId": "22f54780-89e4-4156-d214-50f2a4ca4e05"
      },
      "outputs": [
        {
          "data": {
            "text/plain": [
              "0"
            ]
          },
          "execution_count": 18,
          "metadata": {},
          "output_type": "execute_result"
        }
      ],
      "source": [
        "# checking if we have duplicates in our 'tweet_id' column since it is out unique identifier\n",
        "df.duplicated().sum()\n"
      ]
    },
    {
      "cell_type": "markdown",
      "metadata": {
        "id": "tKszHtngkgiJ"
      },
      "source": [
        "no duplicate records"
      ]
    },
    {
      "cell_type": "code",
      "execution_count": 19,
      "metadata": {
        "colab": {
          "base_uri": "https://localhost:8080/"
        },
        "id": "3bfvQ5RCx1Iy",
        "outputId": "523dd501-dfc2-4bf7-b193-e0497e37a5d4"
      },
      "outputs": [
        {
          "name": "stdout",
          "output_type": "stream",
          "text": [
            "\n",
            "There are 52210 duplicate tweets in the dataset after cleaning. \n",
            "They shall be dropped maintaining only the last tweet\n",
            "\n"
          ]
        }
      ],
      "source": [
        "# checking for duplicate cleaned tweets\n",
        "duplicate_tweets  = df['tweet_clean'].duplicated().sum()\n",
        "\n",
        "# print duplicate tweet numbers\n",
        "print(f'''\n",
        "There are {duplicate_tweets} duplicate tweets in the dataset after cleaning. \n",
        "They shall be dropped maintaining only the last tweet\n",
        "''')"
      ]
    },
    {
      "cell_type": "code",
      "execution_count": 20,
      "metadata": {
        "id": "L2gGIvS3zhZF"
      },
      "outputs": [],
      "source": [
        "# dropping the duplicates in the tweet_clean column keeping last\n",
        "df.drop_duplicates(subset=['tweet_clean'], keep='last', inplace=True)"
      ]
    },
    {
      "cell_type": "code",
      "execution_count": 21,
      "metadata": {
        "colab": {
          "base_uri": "https://localhost:8080/"
        },
        "id": "943P2OeCzojL",
        "outputId": "30ccca04-2fec-4365-b399-194e3feea1d6"
      },
      "outputs": [
        {
          "name": "stdout",
          "output_type": "stream",
          "text": [
            "\n",
            "There are 0 duplicate tweets in the dataset after cleaning. \n",
            "\n"
          ]
        }
      ],
      "source": [
        "# confirm for any remaining duplicate records remaining\n",
        "duplicate_tweets  = df['tweet_clean'].duplicated().sum()\n",
        "\n",
        "# print duplicate tweet numbers\n",
        "print(f'''\n",
        "There are {duplicate_tweets} duplicate tweets in the dataset after cleaning. \n",
        "''')"
      ]
    },
    {
      "cell_type": "code",
      "execution_count": 22,
      "metadata": {
        "colab": {
          "base_uri": "https://localhost:8080/"
        },
        "id": "WZOtgObkz1NY",
        "outputId": "50620fbb-78a8-45f0-8597-04bf5409dc4c"
      },
      "outputs": [
        {
          "name": "stdout",
          "output_type": "stream",
          "text": [
            "\n",
            "The dataframe has 353439 remaining records and 7 remaining columns. \n",
            "There has been a lose of 12.870947861456921% of all records\n",
            "\n"
          ]
        }
      ],
      "source": [
        "# shape of dataframe after dealing with duplicate tweets and missing values\n",
        "rows1, columns1 = df.shape\n",
        "\n",
        "# printing\n",
        "print(f'''\n",
        "The dataframe has {rows1} remaining records and {columns1} remaining columns. \n",
        "There has been a lose of {((rows-rows1)/ rows) * 100}% of all records\n",
        "''')"
      ]
    },
    {
      "cell_type": "markdown",
      "metadata": {
        "id": "i-4dkuCPoFlf"
      },
      "source": [
        "## Feature engineering"
      ]
    },
    {
      "cell_type": "markdown",
      "metadata": {
        "id": "5XZQVpuVoFHA"
      },
      "source": [
        "Here we are going to create new columns containing the subjectivity and polarity of the tweet"
      ]
    },
    {
      "cell_type": "code",
      "execution_count": 23,
      "metadata": {
        "colab": {
          "base_uri": "https://localhost:8080/",
          "height": 0
        },
        "id": "U6yR5PgxuTG9",
        "outputId": "3dfc6065-9b8b-49aa-f741-a7f931aee3e1"
      },
      "outputs": [
        {
          "data": {
            "text/html": [
              "<div>\n",
              "<style scoped>\n",
              "    .dataframe tbody tr th:only-of-type {\n",
              "        vertical-align: middle;\n",
              "    }\n",
              "\n",
              "    .dataframe tbody tr th {\n",
              "        vertical-align: top;\n",
              "    }\n",
              "\n",
              "    .dataframe thead th {\n",
              "        text-align: right;\n",
              "    }\n",
              "</style>\n",
              "<table border=\"1\" class=\"dataframe\">\n",
              "  <thead>\n",
              "    <tr style=\"text-align: right;\">\n",
              "      <th></th>\n",
              "      <th>Unnamed: 0.1</th>\n",
              "      <th>Unnamed: 0</th>\n",
              "      <th>tweet_id</th>\n",
              "      <th>time</th>\n",
              "      <th>tweet</th>\n",
              "      <th>retweet_count</th>\n",
              "      <th>tweet_clean</th>\n",
              "      <th>Subjectivity</th>\n",
              "      <th>Polarity</th>\n",
              "    </tr>\n",
              "  </thead>\n",
              "  <tbody>\n",
              "    <tr>\n",
              "      <th>389555</th>\n",
              "      <td>1911533</td>\n",
              "      <td>286229</td>\n",
              "      <td>1537006905712947200</td>\n",
              "      <td>2022-06-20 17:47:16</td>\n",
              "      <td>Chaos at Raila Odinga rally in Machakos - See ...</td>\n",
              "      <td>0</td>\n",
              "      <td>chaos raila odinga rally machakos security qui...</td>\n",
              "      <td>0.500000</td>\n",
              "      <td>0.333333</td>\n",
              "    </tr>\n",
              "    <tr>\n",
              "      <th>264965</th>\n",
              "      <td>96026</td>\n",
              "      <td>121252</td>\n",
              "      <td>1538749302335414274</td>\n",
              "      <td>2022-06-14 10:53:03</td>\n",
              "      <td>After IND vs SA 5th T20I gets washed out, Aaka...</td>\n",
              "      <td>0</td>\n",
              "      <td>ind get wash aakash chopra tweet go viral</td>\n",
              "      <td>0.000000</td>\n",
              "      <td>0.000000</td>\n",
              "    </tr>\n",
              "    <tr>\n",
              "      <th>286662</th>\n",
              "      <td>119054</td>\n",
              "      <td>144290</td>\n",
              "      <td>1537952409502093314</td>\n",
              "      <td>2022-06-14 10:53:03</td>\n",
              "      <td>The Knights responded to Clinton's rally by ma...</td>\n",
              "      <td>0</td>\n",
              "      <td>knight respond clinton rally make home half ma...</td>\n",
              "      <td>0.260317</td>\n",
              "      <td>-0.212698</td>\n",
              "    </tr>\n",
              "    <tr>\n",
              "      <th>151009</th>\n",
              "      <td>143287</td>\n",
              "      <td>27247</td>\n",
              "      <td>1542047027303006208</td>\n",
              "      <td>2022-06-29 07:27:15</td>\n",
              "      <td>RAILA ALINYIMA KALONZO CHANCE YA KUONGEA KWA M...</td>\n",
              "      <td>0</td>\n",
              "      <td>raila alinyima kalonzo chance kuongea kwa mazi...</td>\n",
              "      <td>0.000000</td>\n",
              "      <td>0.000000</td>\n",
              "    </tr>\n",
              "    <tr>\n",
              "      <th>360579</th>\n",
              "      <td>1881717</td>\n",
              "      <td>255963</td>\n",
              "      <td>1538596832892313601</td>\n",
              "      <td>2022-06-20 17:47:16</td>\n",
              "      <td>@normpkk @RailaOdinga Watoto wa Raila @RailaOd...</td>\n",
              "      <td>0</td>\n",
              "      <td>watoto raila bado hawajatahiriwa</td>\n",
              "      <td>0.000000</td>\n",
              "      <td>0.000000</td>\n",
              "    </tr>\n",
              "  </tbody>\n",
              "</table>\n",
              "</div>"
            ],
            "text/plain": [
              "        Unnamed: 0.1 Unnamed: 0             tweet_id                time  \\\n",
              "389555       1911533     286229  1537006905712947200 2022-06-20 17:47:16   \n",
              "264965         96026     121252  1538749302335414274 2022-06-14 10:53:03   \n",
              "286662        119054     144290  1537952409502093314 2022-06-14 10:53:03   \n",
              "151009        143287      27247  1542047027303006208 2022-06-29 07:27:15   \n",
              "360579       1881717     255963  1538596832892313601 2022-06-20 17:47:16   \n",
              "\n",
              "                                                    tweet  retweet_count  \\\n",
              "389555  Chaos at Raila Odinga rally in Machakos - See ...              0   \n",
              "264965  After IND vs SA 5th T20I gets washed out, Aaka...              0   \n",
              "286662  The Knights responded to Clinton's rally by ma...              0   \n",
              "151009  RAILA ALINYIMA KALONZO CHANCE YA KUONGEA KWA M...              0   \n",
              "360579  @normpkk @RailaOdinga Watoto wa Raila @RailaOd...              0   \n",
              "\n",
              "                                              tweet_clean  Subjectivity  \\\n",
              "389555  chaos raila odinga rally machakos security qui...      0.500000   \n",
              "264965          ind get wash aakash chopra tweet go viral      0.000000   \n",
              "286662  knight respond clinton rally make home half ma...      0.260317   \n",
              "151009  raila alinyima kalonzo chance kuongea kwa mazi...      0.000000   \n",
              "360579                   watoto raila bado hawajatahiriwa      0.000000   \n",
              "\n",
              "        Polarity  \n",
              "389555  0.333333  \n",
              "264965  0.000000  \n",
              "286662 -0.212698  \n",
              "151009  0.000000  \n",
              "360579  0.000000  "
            ]
          },
          "execution_count": 23,
          "metadata": {},
          "output_type": "execute_result"
        }
      ],
      "source": [
        "# Creating a function to get the subjectivity\n",
        "def getSubjectivity(text):\n",
        "  return TextBlob(text).sentiment.subjectivity\n",
        "\n",
        "# Creating a function to get polarity\n",
        "def getPolarity(text):\n",
        "  return TextBlob(text).sentiment.polarity\n",
        "\n",
        "# Creating two additional columns to check the Subjectivity and Polarity\n",
        "df['Subjectivity'] = df['tweet_clean'].apply(getSubjectivity)\n",
        "df['Polarity'] = df['tweet_clean'].apply(getPolarity)\n",
        "\n",
        "# Previewing random samples of five records\n",
        "df.sample(5)"
      ]
    },
    {
      "cell_type": "code",
      "execution_count": 24,
      "metadata": {
        "id": "BD7_QCc49qZa"
      },
      "outputs": [],
      "source": [
        "# Aspirant finder to find the various aspirants participating in the 2022 Kenyan general elections\n",
        "the_list = ['wajackoyah', 'raila',  'ruto', 'deputy', 'baba']\n",
        "\n",
        "def aspirant_finder(string):\n",
        "    term_return = 'None'\n",
        "    for term in the_list:\n",
        "        if term in string:\n",
        "            term_return = term\n",
        "    return term_return\n",
        "\n",
        "# Coalition finder: Find the various coalitions in 2022 kenya general election\n",
        "the_list1 = ['kwanza', 'azimio',  'root', 'kwisha', 'assimio', 'uda', 'anc', 'odm', 'ford kenya', 'wiper', 'maendeleo', 'dap', 'chama cha kazi', 'hustler nation']\n",
        "\n",
        "def coalition_finder(string):\n",
        "    term_return = 'None'\n",
        "    for term in the_list1:\n",
        "        if term in string:\n",
        "            term_return = term\n",
        "    return term_return\n"
      ]
    },
    {
      "cell_type": "code",
      "execution_count": 25,
      "metadata": {
        "colab": {
          "base_uri": "https://localhost:8080/",
          "height": 0
        },
        "id": "G1tB1nmWAan7",
        "outputId": "4212a23a-fb24-495a-adfa-c1bc2e23ce50"
      },
      "outputs": [
        {
          "data": {
            "text/html": [
              "<div>\n",
              "<style scoped>\n",
              "    .dataframe tbody tr th:only-of-type {\n",
              "        vertical-align: middle;\n",
              "    }\n",
              "\n",
              "    .dataframe tbody tr th {\n",
              "        vertical-align: top;\n",
              "    }\n",
              "\n",
              "    .dataframe thead th {\n",
              "        text-align: right;\n",
              "    }\n",
              "</style>\n",
              "<table border=\"1\" class=\"dataframe\">\n",
              "  <thead>\n",
              "    <tr style=\"text-align: right;\">\n",
              "      <th></th>\n",
              "      <th>Unnamed: 0.1</th>\n",
              "      <th>Unnamed: 0</th>\n",
              "      <th>tweet_id</th>\n",
              "      <th>time</th>\n",
              "      <th>tweet</th>\n",
              "      <th>retweet_count</th>\n",
              "      <th>tweet_clean</th>\n",
              "      <th>Subjectivity</th>\n",
              "      <th>Polarity</th>\n",
              "      <th>presidential_aspirant</th>\n",
              "    </tr>\n",
              "  </thead>\n",
              "  <tbody>\n",
              "    <tr>\n",
              "      <th>210686</th>\n",
              "      <td>8738</td>\n",
              "      <td>19082</td>\n",
              "      <td>1540000661391216641</td>\n",
              "      <td>2022-06-23 15:55:44</td>\n",
              "      <td>Raira and Ruto may be the most likely but in t...</td>\n",
              "      <td>0</td>\n",
              "      <td>raira ruto likely hand kenya doom</td>\n",
              "      <td>1.000000</td>\n",
              "      <td>0.000000</td>\n",
              "      <td>Dr. William Samoei Ruto</td>\n",
              "    </tr>\n",
              "    <tr>\n",
              "      <th>301388</th>\n",
              "      <td>134212</td>\n",
              "      <td>159454</td>\n",
              "      <td>1537563774516875265</td>\n",
              "      <td>2022-06-14 10:53:03</td>\n",
              "      <td>beat #ELDENRING for the 5th time</td>\n",
              "      <td>0</td>\n",
              "      <td>beat time</td>\n",
              "      <td>0.000000</td>\n",
              "      <td>0.000000</td>\n",
              "      <td>None</td>\n",
              "    </tr>\n",
              "    <tr>\n",
              "      <th>126151</th>\n",
              "      <td>117606</td>\n",
              "      <td>1567</td>\n",
              "      <td>1543291769756024833</td>\n",
              "      <td>2022-07-02 17:53:25</td>\n",
              "      <td>@JunetMohamed @RailaOdinga @HassanAliJoho @ore...</td>\n",
              "      <td>0</td>\n",
              "      <td>campaign strongholds add</td>\n",
              "      <td>0.000000</td>\n",
              "      <td>0.000000</td>\n",
              "      <td>None</td>\n",
              "    </tr>\n",
              "    <tr>\n",
              "      <th>395518</th>\n",
              "      <td>1925078</td>\n",
              "      <td>300439</td>\n",
              "      <td>1539922075233681410</td>\n",
              "      <td>2022-06-23 10:43:27</td>\n",
              "      <td>Ladies and gentlemen, this is what Kenya Kwanz...</td>\n",
              "      <td>0</td>\n",
              "      <td>ladies gentlemen kenya kwanza lead education</td>\n",
              "      <td>0.000000</td>\n",
              "      <td>0.000000</td>\n",
              "      <td>None</td>\n",
              "    </tr>\n",
              "    <tr>\n",
              "      <th>90256</th>\n",
              "      <td>75474</td>\n",
              "      <td>75473</td>\n",
              "      <td>1541552073824665601</td>\n",
              "      <td>2022-06-27 22:40:29</td>\n",
              "      <td>@kuriasolomonK Twitter if for those wise  Ruto...</td>\n",
              "      <td>0</td>\n",
              "      <td>twitter wise ruto hawezi shinda huku like suppose</td>\n",
              "      <td>0.900000</td>\n",
              "      <td>0.700000</td>\n",
              "      <td>Dr. William Samoei Ruto</td>\n",
              "    </tr>\n",
              "    <tr>\n",
              "      <th>272645</th>\n",
              "      <td>104219</td>\n",
              "      <td>129447</td>\n",
              "      <td>1538498913409601537</td>\n",
              "      <td>2022-06-14 10:53:03</td>\n",
              "      <td>#INDvSA   5th T20I: As India look to secure a ...</td>\n",
              "      <td>0</td>\n",
              "      <td>india look secure memorable come series win sp...</td>\n",
              "      <td>0.511111</td>\n",
              "      <td>0.211616</td>\n",
              "      <td>None</td>\n",
              "    </tr>\n",
              "    <tr>\n",
              "      <th>313065</th>\n",
              "      <td>146181</td>\n",
              "      <td>171431</td>\n",
              "      <td>1537266563614654465</td>\n",
              "      <td>2022-06-14 10:53:03</td>\n",
              "      <td>My husband has deeply potent art: Saturn ruled...</td>\n",
              "      <td>0</td>\n",
              "      <td>husband deeply potent art saturn rule venus ta...</td>\n",
              "      <td>0.500000</td>\n",
              "      <td>0.500000</td>\n",
              "      <td>None</td>\n",
              "    </tr>\n",
              "    <tr>\n",
              "      <th>158044</th>\n",
              "      <td>150539</td>\n",
              "      <td>34499</td>\n",
              "      <td>1541843467218944000</td>\n",
              "      <td>2022-06-28 17:58:23</td>\n",
              "      <td>@KbnJ_ @WilsonKiplanga4 @RailaOdinga You think...</td>\n",
              "      <td>0</td>\n",
              "      <td>think gullible follow mzee time better kunguni...</td>\n",
              "      <td>0.333333</td>\n",
              "      <td>0.183333</td>\n",
              "      <td>None</td>\n",
              "    </tr>\n",
              "    <tr>\n",
              "      <th>79923</th>\n",
              "      <td>62593</td>\n",
              "      <td>62592</td>\n",
              "      <td>1542018428369764352</td>\n",
              "      <td>2022-06-29 05:33:37</td>\n",
              "      <td>@MakauWaMuli What is so difficulty for you to ...</td>\n",
              "      <td>0</td>\n",
              "      <td>difficulty differentiate government ruto justi...</td>\n",
              "      <td>0.000000</td>\n",
              "      <td>0.000000</td>\n",
              "      <td>Dr. William Samoei Ruto</td>\n",
              "    </tr>\n",
              "    <tr>\n",
              "      <th>366444</th>\n",
              "      <td>1887710</td>\n",
              "      <td>262063</td>\n",
              "      <td>1538383287126728706</td>\n",
              "      <td>2022-06-20 17:47:16</td>\n",
              "      <td>Pure love for Baba @RailaOdinga . Meru 91.3%  ...</td>\n",
              "      <td>0</td>\n",
              "      <td>pure love baba meru tuko azimio</td>\n",
              "      <td>0.550000</td>\n",
              "      <td>0.357143</td>\n",
              "      <td>Raila Amollo Odinga</td>\n",
              "    </tr>\n",
              "  </tbody>\n",
              "</table>\n",
              "</div>"
            ],
            "text/plain": [
              "        Unnamed: 0.1 Unnamed: 0             tweet_id                time  \\\n",
              "210686          8738      19082  1540000661391216641 2022-06-23 15:55:44   \n",
              "301388        134212     159454  1537563774516875265 2022-06-14 10:53:03   \n",
              "126151        117606       1567  1543291769756024833 2022-07-02 17:53:25   \n",
              "395518       1925078     300439  1539922075233681410 2022-06-23 10:43:27   \n",
              "90256          75474      75473  1541552073824665601 2022-06-27 22:40:29   \n",
              "272645        104219     129447  1538498913409601537 2022-06-14 10:53:03   \n",
              "313065        146181     171431  1537266563614654465 2022-06-14 10:53:03   \n",
              "158044        150539      34499  1541843467218944000 2022-06-28 17:58:23   \n",
              "79923          62593      62592  1542018428369764352 2022-06-29 05:33:37   \n",
              "366444       1887710     262063  1538383287126728706 2022-06-20 17:47:16   \n",
              "\n",
              "                                                    tweet  retweet_count  \\\n",
              "210686  Raira and Ruto may be the most likely but in t...              0   \n",
              "301388                   beat #ELDENRING for the 5th time              0   \n",
              "126151  @JunetMohamed @RailaOdinga @HassanAliJoho @ore...              0   \n",
              "395518  Ladies and gentlemen, this is what Kenya Kwanz...              0   \n",
              "90256   @kuriasolomonK Twitter if for those wise  Ruto...              0   \n",
              "272645  #INDvSA   5th T20I: As India look to secure a ...              0   \n",
              "313065  My husband has deeply potent art: Saturn ruled...              0   \n",
              "158044  @KbnJ_ @WilsonKiplanga4 @RailaOdinga You think...              0   \n",
              "79923   @MakauWaMuli What is so difficulty for you to ...              0   \n",
              "366444  Pure love for Baba @RailaOdinga . Meru 91.3%  ...              0   \n",
              "\n",
              "                                              tweet_clean  Subjectivity  \\\n",
              "210686                  raira ruto likely hand kenya doom      1.000000   \n",
              "301388                                          beat time      0.000000   \n",
              "126151                           campaign strongholds add      0.000000   \n",
              "395518       ladies gentlemen kenya kwanza lead education      0.000000   \n",
              "90256   twitter wise ruto hawezi shinda huku like suppose      0.900000   \n",
              "272645  india look secure memorable come series win sp...      0.511111   \n",
              "313065  husband deeply potent art saturn rule venus ta...      0.500000   \n",
              "158044  think gullible follow mzee time better kunguni...      0.333333   \n",
              "79923   difficulty differentiate government ruto justi...      0.000000   \n",
              "366444                    pure love baba meru tuko azimio      0.550000   \n",
              "\n",
              "        Polarity    presidential_aspirant  \n",
              "210686  0.000000  Dr. William Samoei Ruto  \n",
              "301388  0.000000                     None  \n",
              "126151  0.000000                     None  \n",
              "395518  0.000000                     None  \n",
              "90256   0.700000  Dr. William Samoei Ruto  \n",
              "272645  0.211616                     None  \n",
              "313065  0.500000                     None  \n",
              "158044  0.183333                     None  \n",
              "79923   0.000000  Dr. William Samoei Ruto  \n",
              "366444  0.357143      Raila Amollo Odinga  "
            ]
          },
          "execution_count": 25,
          "metadata": {},
          "output_type": "execute_result"
        }
      ],
      "source": [
        "# applying the aspirant finder function\n",
        "df['presidential_aspirant'] = df['tweet_clean'].apply(aspirant_finder)\n",
        "\n",
        "# Replacing the various names used to refer to top preseidential contenders with their oficial names\n",
        "df =df.replace({'presidential_aspirant' : { 'deputy' : 'Dr. William Samoei Ruto', 'baba' : 'Raila Amollo Odinga', 'ruto' : 'Dr. William Samoei Ruto', 'raila': 'Raila Amollo Odinga',  'wajackoyah': 'Prof. George Luchiri Wajackoyah'}})\n",
        "\n",
        "# Sampling 10 records\n",
        "df.sample(10)"
      ]
    },
    {
      "cell_type": "code",
      "execution_count": 26,
      "metadata": {
        "colab": {
          "base_uri": "https://localhost:8080/",
          "height": 0
        },
        "id": "SlH90I23Ak0w",
        "outputId": "0c049aba-b9b2-43ca-a444-cff96ac39a59"
      },
      "outputs": [
        {
          "data": {
            "text/html": [
              "<div>\n",
              "<style scoped>\n",
              "    .dataframe tbody tr th:only-of-type {\n",
              "        vertical-align: middle;\n",
              "    }\n",
              "\n",
              "    .dataframe tbody tr th {\n",
              "        vertical-align: top;\n",
              "    }\n",
              "\n",
              "    .dataframe thead th {\n",
              "        text-align: right;\n",
              "    }\n",
              "</style>\n",
              "<table border=\"1\" class=\"dataframe\">\n",
              "  <thead>\n",
              "    <tr style=\"text-align: right;\">\n",
              "      <th></th>\n",
              "      <th>Unnamed: 0.1</th>\n",
              "      <th>Unnamed: 0</th>\n",
              "      <th>tweet_id</th>\n",
              "      <th>time</th>\n",
              "      <th>tweet</th>\n",
              "      <th>retweet_count</th>\n",
              "      <th>tweet_clean</th>\n",
              "      <th>Subjectivity</th>\n",
              "      <th>Polarity</th>\n",
              "      <th>presidential_aspirant</th>\n",
              "      <th>coalition</th>\n",
              "    </tr>\n",
              "  </thead>\n",
              "  <tbody>\n",
              "    <tr>\n",
              "      <th>229322</th>\n",
              "      <td>53386</td>\n",
              "      <td>78280</td>\n",
              "      <td>1537361710134214656</td>\n",
              "      <td>2022-06-16 09:09:29</td>\n",
              "      <td>@Hon_wajackoyah_ I think these are more practi...</td>\n",
              "      <td>0</td>\n",
              "      <td>think practical reasonable apart buy police of...</td>\n",
              "      <td>0.600000</td>\n",
              "      <td>0.2000</td>\n",
              "      <td>None</td>\n",
              "      <td>None</td>\n",
              "    </tr>\n",
              "    <tr>\n",
              "      <th>146364</th>\n",
              "      <td>138494</td>\n",
              "      <td>22454</td>\n",
              "      <td>1542169933844471808</td>\n",
              "      <td>2022-06-29 15:35:39</td>\n",
              "      <td>@MRSMuruguK @RailaOdinga @Ammar_Kassim8 Ruto t...</td>\n",
              "      <td>0</td>\n",
              "      <td>ruto tawee</td>\n",
              "      <td>0.000000</td>\n",
              "      <td>0.0000</td>\n",
              "      <td>Dr. William Samoei Ruto</td>\n",
              "      <td>None</td>\n",
              "    </tr>\n",
              "    <tr>\n",
              "      <th>270298</th>\n",
              "      <td>101696</td>\n",
              "      <td>126924</td>\n",
              "      <td>1538566451165945863</td>\n",
              "      <td>2022-06-14 10:53:03</td>\n",
              "      <td>@yeatesy46 @ManUtd @Mr_CeoTon Pau Torres is th...</td>\n",
              "      <td>0</td>\n",
              "      <td>pau torres think sales</td>\n",
              "      <td>0.000000</td>\n",
              "      <td>0.0000</td>\n",
              "      <td>None</td>\n",
              "      <td>None</td>\n",
              "    </tr>\n",
              "    <tr>\n",
              "      <th>59998</th>\n",
              "      <td>39388</td>\n",
              "      <td>39387</td>\n",
              "      <td>1542553668578426888</td>\n",
              "      <td>2022-06-30 17:00:28</td>\n",
              "      <td>Siasa za Kenya wakati huu wa kampeni za uchagu...</td>\n",
              "      <td>0</td>\n",
              "      <td>siasa kenya wakati huu kampeni uchaguzi vyombo...</td>\n",
              "      <td>0.850000</td>\n",
              "      <td>0.5500</td>\n",
              "      <td>None</td>\n",
              "      <td>anc</td>\n",
              "    </tr>\n",
              "    <tr>\n",
              "      <th>145925</th>\n",
              "      <td>138042</td>\n",
              "      <td>22002</td>\n",
              "      <td>1542189014937124864</td>\n",
              "      <td>2022-06-29 16:51:28</td>\n",
              "      <td>@Moha001_Onyango @TheODMparty Uko sure uko rea...</td>\n",
              "      <td>0</td>\n",
              "      <td>uko sure uko ready prove raila halal</td>\n",
              "      <td>0.694444</td>\n",
              "      <td>0.3500</td>\n",
              "      <td>Raila Amollo Odinga</td>\n",
              "      <td>None</td>\n",
              "    </tr>\n",
              "    <tr>\n",
              "      <th>302941</th>\n",
              "      <td>135779</td>\n",
              "      <td>161023</td>\n",
              "      <td>1537535067630747648</td>\n",
              "      <td>2022-06-14 10:53:03</td>\n",
              "      <td>@JoJoFromJerz When you plead the 5th, you’re s...</td>\n",
              "      <td>0</td>\n",
              "      <td>plead say guilty</td>\n",
              "      <td>1.000000</td>\n",
              "      <td>-0.5000</td>\n",
              "      <td>None</td>\n",
              "      <td>None</td>\n",
              "    </tr>\n",
              "    <tr>\n",
              "      <th>72066</th>\n",
              "      <td>53119</td>\n",
              "      <td>53118</td>\n",
              "      <td>1542203464369020928</td>\n",
              "      <td>2022-06-29 17:48:53</td>\n",
              "      <td>@Felix_Mwe @Kadasia99 @kamaukinyingi @Dawg_001...</td>\n",
              "      <td>0</td>\n",
              "      <td>kikuyus know muthamaki mean matter kalenjin ru...</td>\n",
              "      <td>0.687500</td>\n",
              "      <td>-0.3125</td>\n",
              "      <td>Dr. William Samoei Ruto</td>\n",
              "      <td>None</td>\n",
              "    </tr>\n",
              "    <tr>\n",
              "      <th>240654</th>\n",
              "      <td>70505</td>\n",
              "      <td>95716</td>\n",
              "      <td>1539560368363773959</td>\n",
              "      <td>2022-06-14 10:53:03</td>\n",
              "      <td>@MollyJongFast I plead the 5th too if I knew t...</td>\n",
              "      <td>0</td>\n",
              "      <td>plead know wasn heart effort prosecute plead c...</td>\n",
              "      <td>0.000000</td>\n",
              "      <td>0.0000</td>\n",
              "      <td>None</td>\n",
              "      <td>None</td>\n",
              "    </tr>\n",
              "    <tr>\n",
              "      <th>168733</th>\n",
              "      <td>161647</td>\n",
              "      <td>45606</td>\n",
              "      <td>1541432109830651905</td>\n",
              "      <td>2022-06-27 14:43:48</td>\n",
              "      <td>@HusseinMohamedg Ndugu Hussein. The voters pre...</td>\n",
              "      <td>3</td>\n",
              "      <td>ndugu hussein voters present azimio uda ask ca...</td>\n",
              "      <td>0.266667</td>\n",
              "      <td>0.3000</td>\n",
              "      <td>Raila Amollo Odinga</td>\n",
              "      <td>Kenya Kwanza</td>\n",
              "    </tr>\n",
              "    <tr>\n",
              "      <th>212821</th>\n",
              "      <td>14219</td>\n",
              "      <td>26782</td>\n",
              "      <td>1539898378166878208</td>\n",
              "      <td>2022-06-23 09:09:17</td>\n",
              "      <td>@WilliamsRuto Ruto why do you fool kenyans are...</td>\n",
              "      <td>0</td>\n",
              "      <td>ruto fool kenyans deputy president earn salary...</td>\n",
              "      <td>0.000000</td>\n",
              "      <td>0.0000</td>\n",
              "      <td>Dr. William Samoei Ruto</td>\n",
              "      <td>None</td>\n",
              "    </tr>\n",
              "  </tbody>\n",
              "</table>\n",
              "</div>"
            ],
            "text/plain": [
              "        Unnamed: 0.1 Unnamed: 0             tweet_id                time  \\\n",
              "229322         53386      78280  1537361710134214656 2022-06-16 09:09:29   \n",
              "146364        138494      22454  1542169933844471808 2022-06-29 15:35:39   \n",
              "270298        101696     126924  1538566451165945863 2022-06-14 10:53:03   \n",
              "59998          39388      39387  1542553668578426888 2022-06-30 17:00:28   \n",
              "145925        138042      22002  1542189014937124864 2022-06-29 16:51:28   \n",
              "302941        135779     161023  1537535067630747648 2022-06-14 10:53:03   \n",
              "72066          53119      53118  1542203464369020928 2022-06-29 17:48:53   \n",
              "240654         70505      95716  1539560368363773959 2022-06-14 10:53:03   \n",
              "168733        161647      45606  1541432109830651905 2022-06-27 14:43:48   \n",
              "212821         14219      26782  1539898378166878208 2022-06-23 09:09:17   \n",
              "\n",
              "                                                    tweet  retweet_count  \\\n",
              "229322  @Hon_wajackoyah_ I think these are more practi...              0   \n",
              "146364  @MRSMuruguK @RailaOdinga @Ammar_Kassim8 Ruto t...              0   \n",
              "270298  @yeatesy46 @ManUtd @Mr_CeoTon Pau Torres is th...              0   \n",
              "59998   Siasa za Kenya wakati huu wa kampeni za uchagu...              0   \n",
              "145925  @Moha001_Onyango @TheODMparty Uko sure uko rea...              0   \n",
              "302941  @JoJoFromJerz When you plead the 5th, you’re s...              0   \n",
              "72066   @Felix_Mwe @Kadasia99 @kamaukinyingi @Dawg_001...              0   \n",
              "240654  @MollyJongFast I plead the 5th too if I knew t...              0   \n",
              "168733  @HusseinMohamedg Ndugu Hussein. The voters pre...              3   \n",
              "212821  @WilliamsRuto Ruto why do you fool kenyans are...              0   \n",
              "\n",
              "                                              tweet_clean  Subjectivity  \\\n",
              "229322  think practical reasonable apart buy police of...      0.600000   \n",
              "146364                                         ruto tawee      0.000000   \n",
              "270298                             pau torres think sales      0.000000   \n",
              "59998   siasa kenya wakati huu kampeni uchaguzi vyombo...      0.850000   \n",
              "145925               uko sure uko ready prove raila halal      0.694444   \n",
              "302941                                   plead say guilty      1.000000   \n",
              "72066   kikuyus know muthamaki mean matter kalenjin ru...      0.687500   \n",
              "240654  plead know wasn heart effort prosecute plead c...      0.000000   \n",
              "168733  ndugu hussein voters present azimio uda ask ca...      0.266667   \n",
              "212821  ruto fool kenyans deputy president earn salary...      0.000000   \n",
              "\n",
              "        Polarity    presidential_aspirant     coalition  \n",
              "229322    0.2000                     None          None  \n",
              "146364    0.0000  Dr. William Samoei Ruto          None  \n",
              "270298    0.0000                     None          None  \n",
              "59998     0.5500                     None           anc  \n",
              "145925    0.3500      Raila Amollo Odinga          None  \n",
              "302941   -0.5000                     None          None  \n",
              "72066    -0.3125  Dr. William Samoei Ruto          None  \n",
              "240654    0.0000                     None          None  \n",
              "168733    0.3000      Raila Amollo Odinga  Kenya Kwanza  \n",
              "212821    0.0000  Dr. William Samoei Ruto          None  "
            ]
          },
          "execution_count": 26,
          "metadata": {},
          "output_type": "execute_result"
        }
      ],
      "source": [
        "# applying the coalition finder function\n",
        "df['coalition'] = df['tweet_clean'].apply(coalition_finder)\n",
        "\n",
        "# Renaming the various party mentions and the various terms used to refer to coalitions and \n",
        "# partys by the general pulic with the official names of the colaitions they belong tu\n",
        "df =df.replace({'coalition' : { 'kwanza': 'Kenya Kwanza', 'root': 'Roots Party', 'kwisha': 'Kenya Kwanza', 'azimio': 'azimio OKA alliance', 'assimio':'azimio OKA alliance', 'uda': 'Kenya Kwanza', 'hustler nation': 'Kenya Kwanza', 'odm': 'azimio OKA alliance'}})\n",
        "\n",
        "# Sampling 10 records\n",
        "df.sample(10)"
      ]
    },
    {
      "cell_type": "markdown",
      "metadata": {
        "id": "xczrImOt1CXL"
      },
      "source": [
        "## Downloading dataframe"
      ]
    },
    {
      "cell_type": "markdown",
      "metadata": {
        "id": "3LV_mV_X1Ij6"
      },
      "source": [
        "The cleaned and feature engineered dataframe shall be downloaded for the use in our streamlit ui"
      ]
    },
    {
      "cell_type": "code",
      "execution_count": 28,
      "metadata": {
        "colab": {
          "base_uri": "https://localhost:8080/",
          "height": 17
        },
        "id": "MuzvsMG31HkK",
        "outputId": "cd0f2d21-69fa-433d-84c6-7dd4c4c74420"
      },
      "outputs": [],
      "source": [
        "from google.colab import files\n",
        "df.to_csv('elections_df.csv') \n",
        "files.download('elections_df.csv')"
      ]
    },
    {
      "cell_type": "markdown",
      "metadata": {
        "id": "zut9ty3t15o7"
      },
      "source": [
        "## Exploratory data analysis"
      ]
    },
    {
      "cell_type": "code",
      "execution_count": 29,
      "metadata": {
        "id": "XpQ4_IZ02S-C"
      },
      "outputs": [],
      "source": [
        "# Creating copy of cleaned dataframe\n",
        "df1 = df.copy()"
      ]
    },
    {
      "cell_type": "markdown",
      "metadata": {
        "id": "1s-rRZuQMxFC"
      },
      "source": [
        "### Word popularity - general"
      ]
    },
    {
      "cell_type": "code",
      "execution_count": 30,
      "metadata": {
        "colab": {
          "base_uri": "https://localhost:8080/",
          "height": 232
        },
        "id": "9ij23RkGuTHB",
        "outputId": "7250dce1-d639-4b20-e34e-6d92b24b69f5"
      },
      "outputs": [],
      "source": [
        "# Plotting Word Cloud \n",
        "allWords = ' '.join([twts for twts in df['tweet_clean']])\n",
        "wordCloud = WordCloud(width = 1000, height = 600, random_state = 12, max_font_size = 119).generate(allWords)\n",
        "plt.imshow(wordCloud, interpolation = 'bilinear')\n",
        "plt.axis('off')\n",
        "plt.show()\n"
      ]
    },
    {
      "cell_type": "code",
      "execution_count": null,
      "metadata": {
        "colab": {
          "base_uri": "https://localhost:8080/",
          "height": 539
        },
        "id": "11BjqbIMuTHE",
        "outputId": "f28ce48b-5e5f-40ef-a9e8-6de62490590c"
      },
      "outputs": [],
      "source": [
        "#Converting text descriptions into vectors using TF-IDF using Bigram\n",
        "tf = TfidfVectorizer(ngram_range=(2, 2), stop_words='english', lowercase = False)\n",
        "tfidf_matrix = tf.fit_transform(df1['tweet_clean'])\n",
        "total_words = tfidf_matrix.sum(axis=0) \n",
        "\n",
        "#Finding the word frequency\n",
        "freq = [(word, total_words[0, idx]) for word, idx in tf.vocabulary_.items()]\n",
        "freq =sorted(freq, key = lambda x: x[1], reverse=True)\n",
        "\n",
        "#converting into dataframe \n",
        "bigram = pd.DataFrame(freq)\n",
        "bigram.rename(columns = {0:'bigram', 1: 'count'}, inplace = True)\n",
        " \n",
        "#Taking first 20 records\n",
        "words1 = bigram.head(50)\n",
        "\n",
        "#Plotting the bigram distribution\n",
        "words1.plot(x ='bigram', y='count', kind = 'bar', title = \"Bigram disribution for the top 20 words in the Tourism Name\", figsize = (15,7), )"
      ]
    },
    {
      "cell_type": "code",
      "execution_count": null,
      "metadata": {
        "colab": {
          "base_uri": "https://localhost:8080/",
          "height": 521
        },
        "id": "Kau_jHw9uTHF",
        "outputId": "9983ed5f-24e0-4dcc-e74b-084cc4080774"
      },
      "outputs": [],
      "source": [
        "#Converting text descriptions into vectors using TF-IDF using Bigram\n",
        "tf = TfidfVectorizer(ngram_range=(2, 2), stop_words='english', lowercase = False)\n",
        "tfidf_matrix = tf.fit_transform(df1['tweet_clean'])\n",
        "total_words = tfidf_matrix.sum(axis=0) \n",
        "\n",
        "#Finding the word frequency\n",
        "freq = [(word, total_words[0, idx]) for word, idx in tf.vocabulary_.items()]\n",
        "freq =sorted(freq, key = lambda x: x[1], reverse=True)\n",
        "\n",
        "#converting into dataframe \n",
        "bigram = pd.DataFrame(freq)\n",
        "bigram.rename(columns = {0:'bigram', 1: 'count'}, inplace = True) \n",
        "\n",
        "#Taking first 20 records\n",
        "words2 = bigram.head(50)\n",
        "\n",
        "#Plotting the bigram distribution\n",
        "fig = words2.plot(x ='bigram', y='count', kind = 'bar', title = \"Bigram disribution for the top 20 words in the Tweets regarding Kenya's election\", figsize = (15,7), )"
      ]
    },
    {
      "cell_type": "markdown",
      "metadata": {
        "id": "XXK5mvAzNbW_"
      },
      "source": [
        "### Word popularity - Presidential aspirants"
      ]
    },
    {
      "cell_type": "code",
      "execution_count": null,
      "metadata": {
        "id": "55a-duaxuTHH"
      },
      "outputs": [],
      "source": [
        "# Applying aspirant finder function\n",
        "words1['presidential_aspirant'] = words1['bigram'].apply(aspirant_finder)"
      ]
    },
    {
      "cell_type": "code",
      "execution_count": null,
      "metadata": {
        "colab": {
          "base_uri": "https://localhost:8080/",
          "height": 143
        },
        "id": "c_1jfe964_Db",
        "outputId": "0bfd7254-9c05-412b-9c97-671c78ec3bea"
      },
      "outputs": [],
      "source": [
        "# Replacing the various names used to refer to top preseidential contenders with their oficial names\n",
        "words_clean =words1.replace({'presidential_aspirant' : { 'deputy' : 'Dr. William Samoei Ruto', 'baba' : 'Raila Amollo Odinga', 'ruto' : 'Dr. William Samoei Ruto', 'raila': 'Raila Amollo Odinga',  'wajackoyah': 'Prof. George Luchiri Wajackoyah'}})\n",
        "\n",
        "# Dropping the now irrelevant bigram column\n",
        "words_presidents = words_clean.drop('bigram', axis = 1)\n",
        "\n",
        "# Group the records based on the presidential aspirants\n",
        "words_president = words_presidents.groupby('presidential_aspirant',  as_index=False, sort=False).agg({'count': 'sum'})\n",
        "\n",
        "# Drop records that have no mention of the presidential aspirant\n",
        "words_president.drop(words_president.loc[words_president['presidential_aspirant']== 'None'].index, inplace=True)\n",
        "\n",
        "# Get a count of the mentions of the presidential aspirants as a percentage\n",
        "words_president['count'] = (words_president['count']/ words_president['count'].sum()) * 100\n",
        "words_president"
      ]
    },
    {
      "cell_type": "markdown",
      "metadata": {
        "id": "F6NPvuehNQrB"
      },
      "source": [
        "### Word popularity - coalitions"
      ]
    },
    {
      "cell_type": "code",
      "execution_count": null,
      "metadata": {
        "id": "qEENthcMuTHI"
      },
      "outputs": [],
      "source": [
        "# applying the coalition finder function\n",
        "words1['coalition'] = words1['bigram'].apply(coalition_finder)"
      ]
    },
    {
      "cell_type": "code",
      "execution_count": null,
      "metadata": {
        "colab": {
          "base_uri": "https://localhost:8080/",
          "height": 143
        },
        "id": "Kg13LRDd5xqQ",
        "outputId": "6fa5ec7e-2319-4379-aed2-c53a91a661c4"
      },
      "outputs": [],
      "source": [
        "# Renaming the various party mentions and the various terms used to refer to coalitions and \n",
        "# partys by the general pulic with the official names of the colaitions they belong tu\n",
        "words_clean =words1.replace({'coalition' : { 'kwanza': 'Kenya Kwanza', 'root': 'Roots Party', 'kwisha': 'Kenya Kwanza', 'azimio': 'azimio OKA alliance', 'assimio':'azimio OKA alliance', 'uda': 'Kenya Kwanza', 'hustler nation': 'Kenya Kwanza', 'odm': 'azimio OKA alliance'}})\n",
        "\n",
        "# Dropping the now irrelevant bigram column\n",
        "words_partys = words_clean.drop('bigram', axis = 1)\n",
        "\n",
        "# groupning the records based on coalitions\n",
        "words_party = words_partys.groupby('coalition',  as_index=False, sort=False).agg({'count': 'sum'})\n",
        "\n",
        "# Dropping all records without a mention of a qualition in the tweet\n",
        "words_party.drop(words_party.loc[words_party['coalition']== 'None'].index, inplace=True)\n",
        "\n",
        "# Finding the mentions per coalition in percentage format\n",
        "words_party['count'] = (words_party['count']/ words_party['count'].sum()) * 100\n",
        "\n",
        "# output\n",
        "words_party"
      ]
    },
    {
      "cell_type": "code",
      "execution_count": null,
      "metadata": {
        "id": "tmBlrfL9uTHS"
      },
      "outputs": [],
      "source": [
        "# Creating dataframe subsets with tweets containing information on of the various presidential aspirants\n",
        "\n",
        "# Dataset containing Ruto's mentions\n",
        "df_ruto = df1 [df1 ['presidential_aspirant'] == 'Dr. William Samoei Ruto']\n",
        "\n",
        "# Dataset containing raila's mentions\n",
        "df_raila = df1 [df1 ['presidential_aspirant'] == 'Raila Amollo Odinga']\n",
        "\n",
        "# Dataset containing Wajackoyahs mentions\n",
        "df_wajackoyah = df1 [df1 ['presidential_aspirant'] == 'Prof. George Luchiri Wajackoyah']\n"
      ]
    },
    {
      "cell_type": "markdown",
      "metadata": {
        "id": "1UATctDFNe40"
      },
      "source": [
        "### Polarity - assignements"
      ]
    },
    {
      "cell_type": "markdown",
      "metadata": {
        "id": "jx1BsOUBODoX"
      },
      "source": [
        "Assigning sentiments as positive negative or neutral\n",
        "\n",
        "**Note**\n",
        "\n",
        "Polarity > 0 = Positive sentiment\n",
        "\n",
        "Polarity < 0 = Negative sentiment\n",
        "\n",
        "Polarity == 0 = Neutral sentiment"
      ]
    },
    {
      "cell_type": "code",
      "execution_count": null,
      "metadata": {
        "colab": {
          "base_uri": "https://localhost:8080/"
        },
        "id": "rNdSZuSvuTHU",
        "outputId": "975efd04-5f13-4e13-a2ad-4b3414e05a4e"
      },
      "outputs": [],
      "source": [
        "# Assigning values greater than zero with positive sentiment less than zero negative sentiment\n",
        "df_ruto['Expressions'] = np.where(df_ruto['Polarity'] > 0, 'Positive', 'Negative')\n",
        "\n",
        "# Assigning sentiniments with polarity of zero neutral sentiment\n",
        "df_ruto.loc[df_ruto.Polarity == 0, 'Expressions'] = 'Neutral'\n",
        "\n",
        "# Assigning values greater than zero with positive sentiment less than zero negative sentiment\n",
        "df_raila['Expressions'] = np.where(df_raila['Polarity'] > 0, 'Positive', 'Negative')\n",
        "\n",
        "# Assigning sentiniments with polarity of zero neutral sentiment\n",
        "df_raila.loc[df_raila.Polarity == 0, 'Expressions'] = 'Neutral'\n",
        "\n",
        "# Assigning values greater than zero with positive sentiment less than zero negative sentiment\n",
        "df_wajackoyah['Expressions'] = np.where(df_wajackoyah['Polarity'] > 0, 'Positive', 'Negative')\n",
        "\n",
        "# Assigning sentiniments with polarity of zero neutral sentiment\n",
        "df_wajackoyah.loc[df_wajackoyah.Polarity == 0, 'Expressions'] = 'Neutral'"
      ]
    },
    {
      "cell_type": "markdown",
      "metadata": {
        "id": "XI7CkAmGNjbP"
      },
      "source": [
        "### Polarity- histogram plots"
      ]
    },
    {
      "cell_type": "code",
      "execution_count": null,
      "metadata": {
        "colab": {
          "base_uri": "https://localhost:8080/",
          "height": 279
        },
        "id": "0q-OhA78uTHV",
        "outputId": "e398cfbc-1ade-4189-a0a2-5b2ffba8e693"
      },
      "outputs": [],
      "source": [
        "# Plotting a distribution of polarity of sentiments towards ruto\n",
        "sns.histplot(data=df_ruto, x=\"Polarity\", kde=True)\n",
        "\n",
        "# Showing plot\n",
        "plt.show()\n"
      ]
    },
    {
      "cell_type": "code",
      "execution_count": null,
      "metadata": {
        "colab": {
          "base_uri": "https://localhost:8080/",
          "height": 279
        },
        "id": "BgTKTHYNuTHW",
        "outputId": "3c1a37df-7fb0-46c9-f8fb-fbd4c5a4b51a"
      },
      "outputs": [],
      "source": [
        "# Plotting a distribution of polarity of sentiments towards raila\n",
        "sns.histplot(data=df_raila, x=\"Polarity\", kde=True)\n",
        "\n",
        "# Showing plot\n",
        "plt.show()"
      ]
    },
    {
      "cell_type": "code",
      "execution_count": null,
      "metadata": {
        "colab": {
          "base_uri": "https://localhost:8080/",
          "height": 279
        },
        "id": "7YN9mg16uTHX",
        "outputId": "66df7dc2-9b14-4b78-ce4d-eb15abe23351"
      },
      "outputs": [],
      "source": [
        "# Plotting a distribution of sentiments towards wajackhoyah\n",
        "sns.histplot(data=df_wajackoyah, x=\"Polarity\", kde=True)\n",
        "\n",
        "# Showing plot\n",
        "plt.show()"
      ]
    },
    {
      "cell_type": "markdown",
      "metadata": {
        "id": "SgTuxcrdDOaM"
      },
      "source": [
        "From the visuals of the three presidential aspirants it is evident that most of the sentiments with their mentions are neutral"
      ]
    },
    {
      "cell_type": "markdown",
      "metadata": {
        "id": "ILoMrxj_Np0o"
      },
      "source": [
        "### Polarity- counts"
      ]
    },
    {
      "cell_type": "code",
      "execution_count": null,
      "metadata": {
        "colab": {
          "base_uri": "https://localhost:8080/"
        },
        "id": "RbBvN0SduTHY",
        "outputId": "ca516a1b-db16-482c-946e-8c5d4f28b9a9"
      },
      "outputs": [],
      "source": [
        "# Printing out the number of records that have neutral sentiments in the different presidential datasets\n",
        "print(df_ruto[df_ruto['Polarity']==0].shape)\n",
        "print(df_raila[df_raila['Polarity']==0].shape)\n",
        "print(df_wajackoyah[df_wajackoyah['Polarity']==0].shape)"
      ]
    },
    {
      "cell_type": "markdown",
      "metadata": {
        "id": "TFKpt_KnDqJc"
      },
      "source": [
        "The dataframe with tweets that mentioned ruto has the most neutral sentiments, while wajackoyah has the least neutral sentiments"
      ]
    },
    {
      "cell_type": "code",
      "execution_count": null,
      "metadata": {
        "colab": {
          "base_uri": "https://localhost:8080/"
        },
        "id": "atkkMk7MuTHZ",
        "outputId": "cd464c73-515e-4f74-96d9-ff5942c77275"
      },
      "outputs": [],
      "source": [
        "# printing out records with positive sentiments  in the different presidential datasets\n",
        "print(df_ruto[df_ruto['Polarity']>0].shape)\n",
        "print(df_raila[df_raila['Polarity']>0].shape)\n",
        "print(df_wajackoyah[df_wajackoyah['Polarity']>0].shape)"
      ]
    },
    {
      "cell_type": "markdown",
      "metadata": {
        "id": "ioms21mvD_AE"
      },
      "source": [
        "From the result above, Ruto is the presidential aspirant with the most number of positive sentiments by social media users. Wajackoyah has the least number of positive sentiments"
      ]
    },
    {
      "cell_type": "code",
      "execution_count": null,
      "metadata": {
        "colab": {
          "base_uri": "https://localhost:8080/"
        },
        "id": "jeu6gVXquTHZ",
        "outputId": "4ff88723-ae8b-4df2-fce1-da7344ddb4c4"
      },
      "outputs": [],
      "source": [
        "# Printing out number of records with negative sentiments  in the different presidential datasets\n",
        "print(df_ruto[df_ruto['Polarity']<0].shape)\n",
        "print(df_raila[df_raila['Polarity']<0].shape)\n",
        "print(df_wajackoyah[df_wajackoyah['Polarity']<0].shape)"
      ]
    },
    {
      "cell_type": "markdown",
      "metadata": {
        "id": "6j8_FduqEZgI"
      },
      "source": [
        "From the result above, Ruto recieves the highest number of negative sentiments among social media users, while wajackhoyah recieves the least number of negative sentiments by social media users"
      ]
    },
    {
      "cell_type": "code",
      "execution_count": null,
      "metadata": {
        "id": "4VColTLGfind"
      },
      "outputs": [],
      "source": [
        "# creating a dataframe grouing neutral sentiments in the three different presidential datasets\n",
        "neutral_ruto = df_ruto[df_ruto['Polarity']==0]\n",
        "neutral_raila = df_raila[df_raila['Polarity']==0]\n",
        "neutral_wajackoyah = df_wajackoyah[df_wajackoyah['Polarity']==0]\n",
        "\n",
        "# Getting a average number of neutral sentiments for the three presidential aspirants\n",
        "total_neutral = (len(neutral_ruto) + len(neutral_raila) + len(neutral_wajackoyah))/3"
      ]
    },
    {
      "cell_type": "code",
      "execution_count": null,
      "metadata": {
        "colab": {
          "base_uri": "https://localhost:8080/"
        },
        "id": "AptrYmX4uTHa",
        "outputId": "a63d938d-54d7-4814-b791-3d1ce0382c9f"
      },
      "outputs": [],
      "source": [
        "# droppping neutral sentiments for all datasets and printing remaining number of records per dataframe\n",
        "df_ruto.drop((df_ruto[df_ruto['Polarity']==0]).index, inplace=True)\n",
        "df_raila.drop((df_raila[df_raila['Polarity']==0]).index, inplace=True)\n",
        "df_wajackoyah.drop((df_wajackoyah[df_wajackoyah['Polarity']==0]).index, inplace=True)\n"
      ]
    },
    {
      "cell_type": "markdown",
      "metadata": {
        "id": "76RYukf3Nu9c"
      },
      "source": [
        "### Polarity- distplots"
      ]
    },
    {
      "cell_type": "code",
      "execution_count": null,
      "metadata": {
        "colab": {
          "base_uri": "https://localhost:8080/",
          "height": 338
        },
        "id": "4D-4fww0uTHc",
        "outputId": "6a5c131c-a307-4f61-af0c-b9381c63e613"
      },
      "outputs": [],
      "source": [
        "# distplot of polarity of sentiments towards ruto after removing neutral sentiments\n",
        "sns.distplot(df_ruto['Polarity'])\n",
        "\n",
        "# Show plot\n",
        "plt.show()"
      ]
    },
    {
      "cell_type": "code",
      "execution_count": null,
      "metadata": {
        "colab": {
          "base_uri": "https://localhost:8080/",
          "height": 279
        },
        "id": "x6vmm5JxuTHf",
        "outputId": "96d27edc-68ac-45d9-d212-17812b8b4627"
      },
      "outputs": [],
      "source": [
        "# distplot of polarity of sentiments towards raila after removing neutral sentiments\n",
        "sns.histplot(data=df_raila, x=\"Polarity\", kde=True)\n",
        "\n",
        "# Show plot\n",
        "plt.show()"
      ]
    },
    {
      "cell_type": "code",
      "execution_count": null,
      "metadata": {
        "colab": {
          "base_uri": "https://localhost:8080/",
          "height": 279
        },
        "id": "XO8lGCMUuTHf",
        "outputId": "61c6975c-79d9-4c10-8d5b-60bf5c6cdc3f"
      },
      "outputs": [],
      "source": [
        "# distplot of polarity of sentiments towards wajackhoyah after removing neutral sentiments\n",
        "sns.histplot(data=df_wajackoyah, x=\"Polarity\", kde=True)\n",
        "\n",
        "# Show plot\n",
        "plt.show()"
      ]
    },
    {
      "cell_type": "markdown",
      "metadata": {
        "id": "uliWgBLYFTtm"
      },
      "source": [
        "From the distplots, it is clear that most social media users have slighty negative or positive sentiments towards the three presidential aspirants"
      ]
    },
    {
      "cell_type": "markdown",
      "metadata": {
        "id": "N8fUtChTNyqd"
      },
      "source": [
        "### Polarity boxplots"
      ]
    },
    {
      "cell_type": "code",
      "execution_count": null,
      "metadata": {
        "colab": {
          "base_uri": "https://localhost:8080/",
          "height": 335
        },
        "id": "LtueHzbYuTHg",
        "outputId": "56ab1d69-7ab8-4c9f-f22a-24d793ab9cfc"
      },
      "outputs": [],
      "source": [
        "# Boxplot of sentiment polarity towards ruto\n",
        "sns.boxplot(df_ruto['Polarity']);\n",
        "\n",
        "# Show plot\n",
        "plt.show()"
      ]
    },
    {
      "cell_type": "code",
      "execution_count": null,
      "metadata": {
        "colab": {
          "base_uri": "https://localhost:8080/",
          "height": 335
        },
        "id": "qVp2r1sAuTHh",
        "outputId": "1a36aafa-745f-41a7-8dba-ff0173ccf1ae"
      },
      "outputs": [],
      "source": [
        "# Boxplot of sentiment polarity towards raila\n",
        "sns.boxplot(df_raila['Polarity']);\n",
        "\n",
        "# Show plot\n",
        "plt.show()"
      ]
    },
    {
      "cell_type": "code",
      "execution_count": null,
      "metadata": {
        "colab": {
          "base_uri": "https://localhost:8080/",
          "height": 335
        },
        "id": "ATs88MV4uTHi",
        "outputId": "c8877269-977e-4bce-933b-cb8f30b14650"
      },
      "outputs": [],
      "source": [
        "# Boxplot of sentiment polarity towards wajackhoyah\n",
        "sns.boxplot(df_wajackoyah['Polarity']);\n",
        "\n",
        "# Show plot\n",
        "plt.show()"
      ]
    },
    {
      "cell_type": "markdown",
      "metadata": {
        "id": "wayK0wkfGM_W"
      },
      "source": [
        "From the boxplots, there are no outliers in positive sentiments towards the various presidential aspirants. However tehre are some social media users that have extremely negative senyiments towards the different presidential aspirants"
      ]
    },
    {
      "cell_type": "markdown",
      "metadata": {
        "id": "45xZ75VHOaVt"
      },
      "source": [
        "### Polarity - Group & countby expressions(negative/positive/neutral)"
      ]
    },
    {
      "cell_type": "code",
      "execution_count": null,
      "metadata": {
        "colab": {
          "base_uri": "https://localhost:8080/",
          "height": 225
        },
        "id": "HCM8YIwJuTHi",
        "outputId": "99b2619d-b628-49ef-cbcc-681bf4ff1146"
      },
      "outputs": [],
      "source": [
        "# grouping to get total positive and negative reviews\n",
        "df_ruto.groupby('Expressions').count()"
      ]
    },
    {
      "cell_type": "code",
      "execution_count": null,
      "metadata": {
        "colab": {
          "base_uri": "https://localhost:8080/",
          "height": 225
        },
        "id": "riVRfZNluTHk",
        "outputId": "0b74cdab-fd61-40b0-b2a8-3cab2fe876ba"
      },
      "outputs": [],
      "source": [
        "# grouping to get total positive and negative reviews\n",
        "df_raila.groupby('Expressions').count()"
      ]
    },
    {
      "cell_type": "code",
      "execution_count": null,
      "metadata": {
        "colab": {
          "base_uri": "https://localhost:8080/",
          "height": 225
        },
        "id": "PbKcG6fouTHk",
        "outputId": "ff497e2b-dd32-4bf7-fe13-58bc5a9ae558"
      },
      "outputs": [],
      "source": [
        "# grouping to get total positive and negative reviews\n",
        "df_wajackoyah.groupby('Expressions').count()"
      ]
    },
    {
      "cell_type": "markdown",
      "metadata": {},
      "source": [
        "### Most positive and negative tweets"
      ]
    },
    {
      "cell_type": "code",
      "execution_count": null,
      "metadata": {
        "colab": {
          "base_uri": "https://localhost:8080/",
          "height": 89
        },
        "id": "mGzlMlJduTHr",
        "outputId": "b73c2007-7e04-48f9-816c-75c74065d437"
      },
      "outputs": [],
      "source": [
        "# function returning the tweets that were most positive together with ther polaritys\n",
        "def pos_tweets(tweets,title):\n",
        "\n",
        "    most_pos_text = tweets[tweets['Polarity'] == 1].tweet.head()\n",
        "\n",
        "    most_pos_pol = tweets[tweets['Polarity'] == 1].Polarity.head()\n",
        "\n",
        "    return most_pos_text, most_pos_pol \n",
        "\n",
        "\"\"\"    go.Figure(data=[go.Table(columnorder=[1,2],\n",
        "                             columnwidth=[10,100],\n",
        "                             header={'values':['Polarity',title],'align':'left'},\n",
        "                             cells ={'values':[most_pos_pol,most_pos_text],'align':'left'}\n",
        "                            )]).update_layout(title_text=title).show()\"\"\""
      ]
    },
    {
      "cell_type": "code",
      "execution_count": null,
      "metadata": {
        "colab": {
          "base_uri": "https://localhost:8080/"
        },
        "id": "4-K2-dTTuTHs",
        "outputId": "6451a82b-7a6b-40a9-fc45-160193448874"
      },
      "outputs": [],
      "source": [
        "# most positive tweets for\n",
        "\n",
        "# Ruto\n",
        "pos_tweets(df_ruto,'Positive tweets for William Ruto')\n",
        "\n",
        "# Raila\n",
        "pos_tweets(df_raila,'Positive tweets for Raila Odinga')\n",
        "\n",
        "# Wajackhoyah\n",
        "pos_tweets(df_wajackoyah,'Positive tweets for George wajackoyah')\n"
      ]
    },
    {
      "cell_type": "code",
      "execution_count": null,
      "metadata": {
        "colab": {
          "base_uri": "https://localhost:8080/",
          "height": 89
        },
        "id": "k_AlbMEAuTHs",
        "outputId": "75929a16-6d5e-4746-e668-5c1d33ff9ac3"
      },
      "outputs": [],
      "source": [
        "# function returning the tweets that were most negative together with ther polaritys\n",
        "def neg_tweets(tweets,title):\n",
        "\n",
        "    most_neg_text = tweets[tweets['Polarity'] == -1].tweet.head()\n",
        "\n",
        "    most_neg_pol = tweets[tweets['Polarity'] == -1].Polarity.head()\n",
        "\n",
        "    return most_neg_text, most_neg_pol \n",
        "\n",
        "\"\"\"    go.Figure(data=[go.Table(columnorder=[1,2],\n",
        "                             columnwidth=[10,100],\n",
        "                             header={'values':['Polarity',title],'align':'left'},\n",
        "                             cells ={'values':[most_pos_pol,most_pos_text],'align':'left'}\n",
        "                            )]).update_layout(title_text=title).show()\"\"\"\n",
        "\n"
      ]
    },
    {
      "cell_type": "code",
      "execution_count": null,
      "metadata": {
        "colab": {
          "base_uri": "https://localhost:8080/"
        },
        "id": "8B87kIwDuTHt",
        "outputId": "fdf404a9-7f1d-4a38-b3ed-d1dac91a9926"
      },
      "outputs": [],
      "source": [
        "# most negative tweets for\n",
        "\n",
        "# Ruto\n",
        "neg_tweets(df_ruto,'negative tweets for William Ruto')\n",
        "\n",
        "# Raila\n",
        "neg_tweets(df_raila,'negative tweets for Raila Odinga')\n",
        "\n",
        "# Wajackhoyah\n",
        "neg_tweets(df_wajackoyah,'negative tweets for George wajackoyah')\n"
      ]
    },
    {
      "cell_type": "code",
      "execution_count": null,
      "metadata": {
        "id": "HcyeQZRwuTHu"
      },
      "outputs": [],
      "source": [
        "# function genrating word cloud showing the most popular words for different presidential aspirants\n",
        "def wordcloud(data,title):\n",
        "    text = str(data.tweet_clean)\n",
        "    wc = WordCloud(max_font_size=100,max_words=500,scale=10,relative_scaling=0.6,background_color='white').generate(text)\n",
        "\n",
        "    plt.figure(figsize=(15,10))\n",
        "    plt.title(title,{'fontsize':30,'family':'serif'})\n",
        "    plt.axis('off')\n",
        "    plt.imshow(wc)"
      ]
    },
    {
      "cell_type": "code",
      "execution_count": null,
      "metadata": {
        "colab": {
          "base_uri": "https://localhost:8080/",
          "height": 1000
        },
        "id": "KT5sVMAquTHv",
        "outputId": "e5768f39-d4f4-45b4-f43b-41e3327b419a"
      },
      "outputs": [],
      "source": [
        "wordcloud(df_ruto, 'Word Cloud for William Ruto Tweet replies')\n",
        "\n",
        "wordcloud(df_raila, 'Word Cloud for Raila Odinga Tweet replies')\n",
        "\n",
        "wordcloud(df_wajackoyah, 'Word Cloud for George Wajackoyah Tweet replies')\n"
      ]
    },
    {
      "cell_type": "markdown",
      "metadata": {
        "id": "u-Ooh0bPO235"
      },
      "source": [
        "### Bivariate analysis"
      ]
    },
    {
      "cell_type": "code",
      "execution_count": null,
      "metadata": {
        "id": "m7PUaXpGuTHl"
      },
      "outputs": [],
      "source": [
        "# function get percentage of negative and positive sentiments\n",
        "def pol_percent(subset,total):\n",
        "    neg_percent = ((subset.groupby('Expressions').count())['Polarity'][0]/total)*100\n",
        "    pos_percent = ((subset.groupby('Expressions').count())['Polarity'][1]/total)*100\n",
        "    \n",
        "    return neg_percent,pos_percent"
      ]
    },
    {
      "cell_type": "code",
      "execution_count": null,
      "metadata": {
        "id": "VeEZdCLWuTHm"
      },
      "outputs": [],
      "source": [
        "# get thee length of the various dataframe subsets\n",
        "records_raila = len(df_raila)\n",
        "records_ruto = len(df_ruto)\n",
        "records_wajackoyah = len(df_wajackoyah)\n",
        "\n",
        "# Sumtotal of all positive, neutral and negative records for the three presidential aspirants\n",
        "total_records = records_raila + records_ruto + records_wajackoyah + total_neutral"
      ]
    },
    {
      "cell_type": "code",
      "execution_count": null,
      "metadata": {
        "colab": {
          "base_uri": "https://localhost:8080/"
        },
        "id": "pRyo7tGyuTHm",
        "outputId": "9ae423bc-904d-4917-9e9b-1c67d62ec3d0"
      },
      "outputs": [],
      "source": [
        "# getting percentage of negative and positive sentiments for the three different presidential aspirants\n",
        "\n",
        "# Ruto\n",
        "ruto_pol_percent = pol_percent(df_ruto,records_ruto)\n",
        "print(ruto_pol_percent)\n",
        "\n",
        "# Raila\n",
        "raila_pol_percent = pol_percent(df_raila,records_raila)\n",
        "print(raila_pol_percent)\n",
        "\n",
        "# Raila\n",
        "wajackoyah_pol_percent = pol_percent(df_wajackoyah,records_wajackoyah)\n",
        "print(wajackoyah_pol_percent)"
      ]
    },
    {
      "cell_type": "code",
      "execution_count": null,
      "metadata": {
        "colab": {
          "base_uri": "https://localhost:8080/",
          "height": 542
        },
        "id": "WnfHEdkyuTHo",
        "outputId": "18141dce-d143-42c5-f259-bf6071361afa"
      },
      "outputs": [],
      "source": [
        "# Plotting the distribution of positive and negative tweets per presidential candidate\n",
        "\n",
        "# list of presidential aspirants\n",
        "candidate = ['Dr. William Samoei Ruto','Raila Amollo Odinga', 'Prof. George Luchiri Wajackoyah']\n",
        "\n",
        "# List of percentage positive and negative sentiments\n",
        "pos = [ruto_pol_percent[1], raila_pol_percent[1], wajackoyah_pol_percent[1]]\n",
        "neg = [ruto_pol_percent[0], raila_pol_percent[0], wajackoyah_pol_percent[0]] \n",
        "\n",
        "# plot\n",
        "go.Figure(data=[\n",
        "    go.Bar(name = 'Positive', x=candidate, y=pos),\n",
        "    go.Bar(name = 'Negative', x=candidate, y=neg),   \n",
        "])"
      ]
    },
    {
      "cell_type": "markdown",
      "metadata": {
        "id": "fPWF26F-M_bG"
      },
      "source": [
        "## Presidential prediction"
      ]
    },
    {
      "cell_type": "code",
      "execution_count": null,
      "metadata": {
        "colab": {
          "base_uri": "https://localhost:8080/"
        },
        "id": "YUbchncCuTHp",
        "outputId": "fe4db93a-1226-4db0-a0e3-6df21c03d7d3"
      },
      "outputs": [],
      "source": [
        "# get the favour per presidential aspirant and undecided social media users\n",
        "\n",
        "# Ruto's favour\n",
        "ruto_pos = (ruto_pol_percent[1] + (raila_pol_percent[0] + wajackoyah_pol_percent[0])/2) * (records_ruto/total_records )\n",
        "print(ruto_pos)\n",
        "\n",
        "# Raila's favour\n",
        "raila_pos = (raila_pol_percent[1] + (ruto_pol_percent[0] + wajackoyah_pol_percent[0])/2) * (records_raila/total_records )\n",
        "print(raila_pos)\n",
        "\n",
        "# Wajackhoyah's favour\n",
        "wajackoyah_pos = (wajackoyah_pol_percent[1] + (ruto_pol_percent[0] + raila_pol_percent[0])/2) * (records_wajackoyah/total_records)\n",
        "print(wajackoyah_pos)\n",
        "\n",
        "# Undecided social media users\n",
        "undecided_pos = (total_neutral/total_records) * 100\n",
        "print(undecided_pos)"
      ]
    },
    {
      "cell_type": "code",
      "execution_count": null,
      "metadata": {
        "id": "-4AfW76tfinz"
      },
      "outputs": [],
      "source": [
        "# Creating a dataframe of the presidential outcomes and presidential prediction\n",
        "\n",
        "# List of presidential aspirants and class of undecided electorate\n",
        "y = ['ruto\\'s Favour' ,'raila\\'s Favour','wajackoyah\\'s Favour', 'undecided voters']\n",
        "\n",
        "# List of the three presidential aspirants plus class of undecided electorate\n",
        "x = [ruto_pos,raila_pos, wajackoyah_pos, undecided_pos]\n",
        "\n",
        "# dataframe of the elective class and labels of these claases\n",
        "poll_prediction = pd.DataFrame(list(zip(y, x)),\n",
        "               columns =['name', 'val'])"
      ]
    },
    {
      "cell_type": "code",
      "execution_count": null,
      "metadata": {
        "colab": {
          "base_uri": "https://localhost:8080/",
          "height": 542
        },
        "id": "COEy406Kfin1",
        "outputId": "0e50cd58-2275-462c-d98a-4d173512f1d0"
      },
      "outputs": [],
      "source": [
        "# Sorting the values of the presidential prediction in ascending order\n",
        "fd = poll_prediction.sort_values(by='val', ascending = True)\n",
        "\n",
        "# Running data in go bar\n",
        "my_data = [go.Bar( x = fd.name, y = fd.val, orientation = 'h')]\n",
        "\n",
        "# plot favour per presidentail aspirant\n",
        "go.Figure(go.Bar(y=fd.name,\n",
        "                 x= fd.val,\n",
        "                 marker={'color':['rgb(100,200,150)','rgb(90,150,200)']},\n",
        "                 orientation='h')).update_layout(title_text='Public Opinion')"
      ]
    },
    {
      "cell_type": "code",
      "execution_count": null,
      "metadata": {
        "id": "IEt09Zi4So8y"
      },
      "outputs": [],
      "source": [
        "# Getting total records of voters ignoring neutral tweets since in general election \n",
        "# there is no section of undecided in a ballot paper to predict the most likely \n",
        "# outcome of the 2022 elections\n",
        "total_outcome = total_records - total_neutral"
      ]
    },
    {
      "cell_type": "code",
      "execution_count": null,
      "metadata": {
        "colab": {
          "base_uri": "https://localhost:8080/"
        },
        "id": "Z2M-fWlKSnv4",
        "outputId": "0b3ceffa-ef72-4b68-cac3-e32e021ea3e4"
      },
      "outputs": [],
      "source": [
        "# get the favour per presidential aspirant and undecided social media users\n",
        "\n",
        "# Ruto's favour\n",
        "ruto_pos = (ruto_pol_percent[1] + (raila_pol_percent[0] + wajackoyah_pol_percent[0])/2) * (records_ruto/total_outcome )\n",
        "print(ruto_pos)\n",
        "\n",
        "# Raila's favour\n",
        "raila_pos = (raila_pol_percent[1] + (ruto_pol_percent[0] + wajackoyah_pol_percent[0])/2) * (records_raila/total_outcome )\n",
        "print(raila_pos)\n",
        "\n",
        "# Wajackhoyah's favour\n",
        "wajackoyah_pos = (wajackoyah_pol_percent[1] + (ruto_pol_percent[0] + raila_pol_percent[0])/2) * (records_wajackoyah/total_outcome)\n",
        "print(wajackoyah_pos)\n"
      ]
    },
    {
      "cell_type": "code",
      "execution_count": null,
      "metadata": {},
      "outputs": [],
      "source": [
        "# Creating a dataframe of the presidential outcomes and presidential prediction\n",
        "\n",
        "# List of presidential aspirants and class of undecided electorate\n",
        "y = ['ruto\\'s Favour' ,'raila\\'s Favour','wajackoyah\\'s Favour']\n",
        "\n",
        "# List of the three presidential aspirants plus class of undecided electorate\n",
        "x = [ruto_pos,raila_pos, wajackoyah_pos]\n",
        "\n",
        "# dataframe of the elective class and labels of these claases\n",
        "poll_prediction = pd.DataFrame(list(zip(y, x)),\n",
        "               columns =['name', 'val'])"
      ]
    },
    {
      "cell_type": "code",
      "execution_count": null,
      "metadata": {},
      "outputs": [],
      "source": [
        "# Sorting the values of the presidential prediction in ascending order\n",
        "fd = poll_prediction.sort_values(by='val', ascending = True)\n",
        "\n",
        "# Running data in go bar\n",
        "my_data = [go.Bar( x = fd.name, y = fd.val, orientation = 'h')]\n",
        "\n",
        "# plot favour per presidentail aspirant\n",
        "go.Figure(go.Bar(y=fd.name,\n",
        "                 x= fd.val,\n",
        "                 marker={'color':['rgb(100,200,150)','rgb(90,150,200)']},\n",
        "                 orientation='h')).update_layout(title_text='Public Opinion')"
      ]
    },
    {
      "cell_type": "markdown",
      "metadata": {
        "id": "oqd7zH2wLSw1"
      },
      "source": [
        "## Results"
      ]
    },
    {
      "cell_type": "markdown",
      "metadata": {
        "id": "lOm_YgQbLUJY"
      },
      "source": [
        "**General sentiments**\n",
        "\n",
        "The top ten most mentioned topics by social media users was as follows;\n",
        "\n",
        "        bigram\t    count\t\n",
        "0\tkenya kwanza\t    1640.103117\t\n",
        "1\traila odinga\t    1458.472561\t\n",
        "2\twilliam ruto\t    1169.901490\t\n",
        "3\troot party\t      734.132224\t\n",
        "4\tdeputy president\t510.946974\t\n",
        "5\tparty manifesto\t  438.900758\t\n",
        "6\tmartha karua\t    432.610101\n",
        "7\tvote ruto\t        378.414608\n",
        "8\tpresident kenya\t  369.138789\t\n",
        "9\truto president\t  361.117241\n",
        "\n",
        "\n",
        "\n",
        "**Political coalitions**\n",
        "\n",
        "The popularity of the various coalitions in this elections is as follows;\n",
        "  coalition\tcount\n",
        "1\tKenya Kwanza\t67.237060\n",
        "2\tRoots Party\t21.375510\n",
        "3\tazimio OKA alliance\t11.387431 \n",
        "\n",
        "Kenya kwanza leads the way with over three times the mentiosnof it's nearest competitor Roots party\n",
        "\n",
        "\n",
        "\n",
        "**Presidential Aspirants**\n",
        "\n",
        "From the analysis, The presidential aspirant william Ruto seemed to have the highest swings in terms of polarity. Ruto had the most positive and the most negative sentiments directed towards him by the various social media users of any of the three presidential aspirants\n",
        "\n",
        "Raila Odinga was second of the three presidential aspirants in all categories while Wajackhoyah tailed in all these three respects\n",
        "\n",
        "In terms of mentions, the popularity is as follows;\n",
        "\n",
        "\t  presidential_aspirant\t        count\n",
        "1\tDr. William Samoei Ruto\t        56.793755\n",
        "2\tRaila Amollo Odinga\t            39.664946\n",
        "3\tProf. George Luchiri Wajackoyah\t3.541299\n",
        "\n",
        "Ruto was the most mentioned presidential aspirant\n",
        "\n",
        "\n",
        "\n",
        "**Election prediction**\n",
        "\n",
        "*With undecided voters*\n",
        "\n",
        "By assuming that the positive sentiments a presidential aspirant gets equats to support and the negative sentiments gets equates to support of the opponnent, and this favour is affected by the occurence of that presidential aspirant in the dataset, the following results were obtained;\n",
        "\n",
        "Dr. William Ruto = 36.61620348979471\n",
        "Undecided Voters = 30.397144348797394\n",
        "Raila Amollo Odinga = 24.589821278587195\n",
        "Prof George Wajackoyah = 7.002066995739549\n",
        "\n",
        "From our analysis Ruto leads the pack followed by the undecided voters while Wajackhoyah tails the pack\n",
        "\n",
        "*Excluding undecided voters*\n",
        "\n",
        "Excluding the undecided voters, the following results were obtained\n",
        "\n",
        "Dr. William Ruto = 52.607329321784874\n",
        "Raila Amollo Odinga = 35.32875346639938\n",
        "Prof George Wajackoyah = 10.060028328189098\n",
        "\n"
      ]
    },
    {
      "cell_type": "markdown",
      "metadata": {
        "id": "ogEoyvEpUE4N"
      },
      "source": [
        "## Conclusion"
      ]
    },
    {
      "cell_type": "markdown",
      "metadata": {
        "id": "xuNNSQtiUGqg"
      },
      "source": [
        "From the list of the top 10 most trending topics, it was concluded that Kenyas politics is not issue rather personality based since 9/10 of the top mentions were politicians/political parties\n",
        "\n",
        "From our analysis, we concluded that William Ruto is the most polarizing candidate. Ruto has the highest number of positive sentiments at the same time the highest number of negative sentiments\n",
        "\n",
        "We also concluded that Ruto is the most mentioned political figure in the country while Wajackhoyah is the least mentioned\n",
        "\n",
        "From our election prediction results, factoring in neutral voters as undecided voters, it was concluded that a large part of the electorate is still undecided on who to vote for in the forth coming election. \n",
        "\n",
        "Without the undecided voters, from the analysis, it was concluded that William Ruto will most likely win the election in the first round with slightly over 50% of the votes. \n",
        "\n",
        "**Disclaimer**\n",
        "\n",
        "This prediction is made using only sentiments sourced from social media hence is not fully representative of Kenya's electorate"
      ]
    },
    {
      "cell_type": "markdown",
      "metadata": {
        "id": "l0Xp2duoWLpA"
      },
      "source": [
        "## Further questions"
      ]
    },
    {
      "cell_type": "markdown",
      "metadata": {
        "id": "QwxHKQdqWPU6"
      },
      "source": [
        "### A) Do we have the right question?\n",
        "\n",
        "Yes we do"
      ]
    },
    {
      "cell_type": "markdown",
      "metadata": {
        "id": "KFyFr3CKWV-b"
      },
      "source": [
        "### B) Do we have the right data?\n",
        "\n",
        "Yes the data is sufficient, upto date and appropiate to meet our objectives"
      ]
    }
  ],
  "metadata": {
    "colab": {
      "collapsed_sections": [
        "1OtS2ezDgKGd",
        "2berK7ysk-yU",
        "dIo926qkjxPS",
        "i-4dkuCPoFlf"
      ],
      "name": "Presidential prediction.ipynb",
      "provenance": [],
      "toc_visible": true
    },
    "kernelspec": {
      "display_name": "Python 3.10.2 64-bit",
      "language": "python",
      "name": "python3"
    },
    "language_info": {
      "codemirror_mode": {
        "name": "ipython",
        "version": 3
      },
      "file_extension": ".py",
      "mimetype": "text/x-python",
      "name": "python",
      "nbconvert_exporter": "python",
      "pygments_lexer": "ipython3",
      "version": "3.10.2"
    },
    "vscode": {
      "interpreter": {
        "hash": "fb4569285eef3a3450cb62085a5b1e0da4bce0af555edc33dcf29baf3acc1368"
      }
    }
  },
  "nbformat": 4,
  "nbformat_minor": 0
}
